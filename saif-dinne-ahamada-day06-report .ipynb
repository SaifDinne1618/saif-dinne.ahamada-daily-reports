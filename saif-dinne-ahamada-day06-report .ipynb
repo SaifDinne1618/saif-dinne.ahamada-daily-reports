{
 "cells": [
  {
   "cell_type": "markdown",
   "id": "forced-johns",
   "metadata": {},
   "source": [
    "# 1 Summations and Products\n",
    "#### October 1, 2024"
   ]
  },
  {
   "cell_type": "markdown",
   "id": "elegant-stations",
   "metadata": {},
   "source": [
    "### 1. Compute the following expressions for a natural number n chosen by the user\n",
    "**(i)**$$\\sum_{i = 0,\\ i \\ is\\ odd}^{n-1}(i+3)$$\n",
    "**(ii)**$$\\prod_{i=0,\\ i\\ is\\ even}^{n-1}(i+3)$$"
   ]
  },
  {
   "cell_type": "code",
   "execution_count": 1,
   "id": "original-feedback",
   "metadata": {},
   "outputs": [
    {
     "name": "stdout",
     "output_type": "stream",
     "text": [
      "Enter a natural n: 4\n",
      "The sum of odd number from 0 to 3 is 10\n"
     ]
    }
   ],
   "source": [
    "num = int(input(\"Enter a natural n: \"))\n",
    "summ = 0 \n",
    "for i in range(num) : \n",
    "    if (i%2 != 0) :\n",
    "        summ = summ + i + 3\n",
    "print (\"The sum of odd number from 0 to {} is {}\".format(num-1, summ))    "
   ]
  },
  {
   "cell_type": "code",
   "execution_count": 2,
   "id": "possible-cardiff",
   "metadata": {},
   "outputs": [
    {
     "name": "stdout",
     "output_type": "stream",
     "text": [
      "Enter a natural number n: 5\n",
      "The product of even number from 0 to 4 is 105\n"
     ]
    }
   ],
   "source": [
    "num1 = int(input(\"Enter a natural number n: \"))\n",
    "product = 1\n",
    "for i in range(num1) :\n",
    "    if (i%2 == 0) :\n",
    "        product = product*(i+3)\n",
    "print(\"The product of even number from 0 to {} is {}\".format(num1-1,product))"
   ]
  },
  {
   "cell_type": "markdown",
   "id": "actual-courage",
   "metadata": {},
   "source": [
    "### 2.Write a program that reads the number of the day of the week (from 0 to 6). If it is a working day, then the program will write the name of the corresponding day. Otherwise, it will write the word \"Weekend\"."
   ]
  },
  {
   "cell_type": "code",
   "execution_count": 3,
   "id": "medical-transportation",
   "metadata": {},
   "outputs": [
    {
     "name": "stdout",
     "output_type": "stream",
     "text": [
      "Enter a number of the day of the week (from 0 to 6) : 6\n",
      "Weekend\n"
     ]
    }
   ],
   "source": [
    "num_day = int(input(\"Enter a number of the day of the week (from 0 to 6) : \"))\n",
    "\n",
    "if num_day == 1 :\n",
    "    print(\"Monday\")\n",
    "    \n",
    "elif num_day == 2 :\n",
    "    print(\"Tuesday\")\n",
    "    \n",
    "elif num_day == 3 :\n",
    "    print(\"Wednesday\")\n",
    "    \n",
    "elif num_day == 4 :\n",
    "    print(\"Thusrday\")\n",
    "    \n",
    "elif num_day == 5:\n",
    "    print(\"Friday\")\n",
    "    \n",
    "else :\n",
    "    print(\"Weekend\")"
   ]
  },
  {
   "cell_type": "markdown",
   "id": "daily-nebraska",
   "metadata": {},
   "source": [
    "### 3. Make a program that, given a month number (from 0 to 11), indicates how many days it has (28, 30 or 31), ignoring the leap years."
   ]
  },
  {
   "cell_type": "code",
   "execution_count": 4,
   "id": "protecting-collective",
   "metadata": {},
   "outputs": [
    {
     "name": "stdout",
     "output_type": "stream",
     "text": [
      "Enter a month number (form 0 to 11): 11\n",
      "It has 30 days\n"
     ]
    }
   ],
   "source": [
    "num_month = int(input(\"Enter a month number (form 0 to 11): \"))\n",
    "if num_month  == 1 or num_month  == 3 or num_month  == 5 or num_month  == 7 or num_month  == 8 or num_month  == 10 or num_month  == 12 :\n",
    "    print(\"It has 31 days \")\n",
    "elif num_month == 2 :\n",
    "    print(\"It has 28 days\")\n",
    "else :\n",
    "    print(\"It has 30 days\")"
   ]
  },
  {
   "cell_type": "markdown",
   "id": "consolidated-title",
   "metadata": {},
   "source": [
    " ### 4. Write two versions of python code that displays your name 3 times. One version with a \"for loop\" and another version with a \"while loop\"."
   ]
  },
  {
   "cell_type": "code",
   "execution_count": 5,
   "id": "involved-purse",
   "metadata": {},
   "outputs": [
    {
     "name": "stdout",
     "output_type": "stream",
     "text": [
      "Enter your name, please: Saif-Dinne\n",
      "Saif-Dinne\n",
      "Saif-Dinne\n",
      "Saif-Dinne\n"
     ]
    }
   ],
   "source": [
    "my_name = input(\"Enter your name, please: \")\n",
    "for i in range(3):\n",
    "    print(my_name)\n",
    "    \n"
   ]
  },
  {
   "cell_type": "code",
   "execution_count": 6,
   "id": "japanese-patrol",
   "metadata": {},
   "outputs": [
    {
     "name": "stdout",
     "output_type": "stream",
     "text": [
      "Enter your name, please: Saif-Dinne\n",
      "Saif-Dinne\n",
      "Saif-Dinne\n",
      "Saif-Dinne\n"
     ]
    }
   ],
   "source": [
    "my_name1 = input(\"Enter your name, please: \")\n",
    "i = 0\n",
    "while (i < 3) : \n",
    "    print(my_name1)\n",
    "    i = i + 1\n",
    "    "
   ]
  },
  {
   "cell_type": "markdown",
   "id": "better-merit",
   "metadata": {},
   "source": [
    "### 5. Given two numbers $a_0$ and $a_1$ , the Fibonacci sequence they generate is constructed from the recursion formula $a_{n+1} = a_n + a_{n-1}$. Calculate the first 15 terms of a Fibonacci sequence, asking the user the initial values."
   ]
  },
  {
   "cell_type": "code",
   "execution_count": 7,
   "id": "convertible-scenario",
   "metadata": {},
   "outputs": [
    {
     "name": "stdout",
     "output_type": "stream",
     "text": [
      "1 1 2 3 5 8 13 21 34 55 89 144 233 377 610 "
     ]
    }
   ],
   "source": [
    "a0 = 1\n",
    "a1 = 0\n",
    "for i in range(15) : \n",
    "    a_n = a1 + a0\n",
    "    a0 = a1 \n",
    "    a1 = a_n\n",
    "    print(a_n, end = \" \")\n"
   ]
  },
  {
   "cell_type": "markdown",
   "id": "african-least",
   "metadata": {},
   "source": [
    "### 6. Compute the first 30 terms of the sequence defined by $2x_{n+2} − x_{n+1} − 6x_n = 0$ sequence, given any two initial values $x_0$ and $x_1$"
   ]
  },
  {
   "cell_type": "code",
   "execution_count": 8,
   "id": "fifteen-change",
   "metadata": {},
   "outputs": [
    {
     "name": "stdout",
     "output_type": "stream",
     "text": [
      "3.0\n",
      "1.5\n",
      "9.75\n",
      "9.375\n",
      "33.9375\n",
      "45.09375\n",
      "124.359375\n",
      "197.4609375\n",
      "471.80859375\n",
      "828.287109375\n",
      "1829.5693359375\n",
      "3399.64599609375\n",
      "7188.531005859375\n",
      "13793.203491210938\n",
      "28462.194763183594\n",
      "55610.70785522461\n",
      "113191.93821716309\n",
      "223428.09267425537\n",
      "451289.86098861694\n",
      "895929.2085170746\n",
      "1801834.1872243881\n",
      "3588704.719163418\n",
      "7199854.921254873\n",
      "14366041.61811769\n",
      "28782585.572823465\n",
      "57489417.6407648\n",
      "115092465.5388528\n",
      "230014485.6917208\n",
      "460284639.4624188\n",
      "920185776.8063718\n"
     ]
    }
   ],
   "source": [
    "x0 = 1\n",
    "x1 = 0\n",
    "for i in range(30) :\n",
    "    x_n_2 = ((1/2)*x1) + (3*x0) \n",
    "    x0 = x1\n",
    "    x1 = x_n_2\n",
    "    print(x_n_2)"
   ]
  },
  {
   "cell_type": "markdown",
   "id": "undefined-aging",
   "metadata": {},
   "source": [
    "#### 7.  a) Write python code to determine whether or not a year is a leap year. Be sure youknow what a leap year is.\n",
    "####      b) Write the code using only logical operators, i.e. no conditional branching."
   ]
  },
  {
   "cell_type": "code",
   "execution_count": 19,
   "id": "global-cloud",
   "metadata": {},
   "outputs": [
    {
     "name": "stdout",
     "output_type": "stream",
     "text": [
      "Enter a year number you want: 2024\n",
      "2024 is leap year\n"
     ]
    }
   ],
   "source": [
    "# Question a\n",
    "year = int(input(\"Enter a year number you want: \"))\n",
    "if year%400 == 0 :  \n",
    "    if year%100 != 0 : \n",
    "        print(\"{} is leap year\".format(year))\n",
    "elif year%4 == 0 :\n",
    "    print(\"{} is leap year\".format(year))\n",
    "else :\n",
    "    print(\"Soryy...\")"
   ]
  },
  {
   "cell_type": "code",
   "execution_count": 16,
   "id": "private-manhattan",
   "metadata": {},
   "outputs": [
    {
     "name": "stdout",
     "output_type": "stream",
     "text": [
      "Enter a year number you want: 2024\n",
      "2024 is leap year\n"
     ]
    }
   ],
   "source": [
    "year = int(input(\"Enter a year number you want: \"))\n",
    "\n",
    "if (year%4 == 0) or (year == 400 and year%100 != 0): \n",
    "    print(\"{} is leap year\".format(year))\n",
    "else :\n",
    "    print(\"Soryy...\")"
   ]
  },
  {
   "cell_type": "markdown",
   "id": "alert-creation",
   "metadata": {},
   "source": [
    "### 8.\n",
    "* a) Write python code that computes the sum of the square of the first n natural numbers.\n",
    "    One version with a \"for loop\" and another version with a \"while loop\".\n",
    "    \n",
    "* b) Write python code that prints, for a natural number M , the smallest natural number\n",
    "    n such that $1^2 + 2^2 + · · · + n^2 \\geq M$. One version with a \"for loop\" and another version\n",
    "    with a \"while loop\"."
   ]
  },
  {
   "cell_type": "markdown",
   "id": "japanese-current",
   "metadata": {},
   "source": [
    "* a) Write python code that computes the sum of the square of the first n natural numbers.\n",
    "    One version with a \"for loop\" "
   ]
  },
  {
   "cell_type": "code",
   "execution_count": 20,
   "id": "authorized-remove",
   "metadata": {},
   "outputs": [
    {
     "name": "stdout",
     "output_type": "stream",
     "text": [
      "Enter a natural number n: 4\n",
      "The sum of square of 1 to 4 is 30\n"
     ]
    }
   ],
   "source": [
    "num2 = int(input(\"Enter a natural number n: \"))\n",
    "som = 0\n",
    "for i in range(1,num2+1):\n",
    "    som = som + (i*i)\n",
    "print(\"The sum of square of 1 to {} is {}\".format(num2, som))"
   ]
  },
  {
   "cell_type": "markdown",
   "id": "naughty-bankruptcy",
   "metadata": {},
   "source": [
    "* a) Write python code that computes the sum of the square of the first n natural numbers.\n",
    "    One version with a \"while loop\"."
   ]
  },
  {
   "cell_type": "code",
   "execution_count": 21,
   "id": "historic-dylan",
   "metadata": {},
   "outputs": [
    {
     "name": "stdout",
     "output_type": "stream",
     "text": [
      "Enter a natural number n: 4\n",
      "The sum of square of 1 to 4 is 30\n"
     ]
    }
   ],
   "source": [
    "num3 = int(input(\"Enter a natural number n: \"))\n",
    "som = 0\n",
    "i = 0\n",
    "while i <= num3 :\n",
    "    som = som + (i*i)\n",
    "    i = i + 1\n",
    "print(\"The sum of square of 1 to {} is {}\".format(num2, som))"
   ]
  },
  {
   "cell_type": "markdown",
   "id": "super-album",
   "metadata": {},
   "source": [
    "* b)Write python code that prints, for a natural number M , the smallest natural number n such that $1^2 + 2^2 + · · · + n^2 ≥ M$. One version with a \"for loop\" "
   ]
  },
  {
   "cell_type": "code",
   "execution_count": 22,
   "id": "architectural-footwear",
   "metadata": {},
   "outputs": [
    {
     "name": "stdout",
     "output_type": "stream",
     "text": [
      "Enter a natural M: 4\n",
      "2\n"
     ]
    }
   ],
   "source": [
    "num_M = int(input(\"Enter a natural M: \"))\n",
    "som = 0\n",
    "for i in range(1,num_M+1): \n",
    "    som = som + (i**2)\n",
    "    if som >= num_M : \n",
    "        print(i)\n",
    "        break \n"
   ]
  },
  {
   "cell_type": "markdown",
   "id": "fitting-appliance",
   "metadata": {},
   "source": [
    "* b)Write python code that prints, for a natural number M , the smallest natural number n such that $1^2 + 2^2 + · · · + n^2 ≥ M$. One version with a \"while loop\" "
   ]
  },
  {
   "cell_type": "code",
   "execution_count": 23,
   "id": "warming-dating",
   "metadata": {},
   "outputs": [
    {
     "name": "stdout",
     "output_type": "stream",
     "text": [
      "Enter a natural M: 4\n",
      "2\n"
     ]
    }
   ],
   "source": [
    "num_M = int(input(\"Enter a natural M: \"))\n",
    "som = 0\n",
    "i = 1\n",
    "while True: \n",
    "    som = som + (i**2)\n",
    "    if som >= num_M : \n",
    "        print(i)\n",
    "        break \n",
    "    i = i + 1 \n"
   ]
  },
  {
   "cell_type": "markdown",
   "id": "removable-capability",
   "metadata": {},
   "source": [
    "####  9. a) Write python code that prints all the divisors of a given natural number.\n",
    "####      b) Read an integer number input by the user and calculate its prime factors. This will just be some of its divisors."
   ]
  },
  {
   "cell_type": "code",
   "execution_count": 24,
   "id": "naughty-chapel",
   "metadata": {},
   "outputs": [
    {
     "name": "stdout",
     "output_type": "stream",
     "text": [
      "Enter a natiral number 7\n",
      "All the divisors number of 7 are [1, 7]\n"
     ]
    }
   ],
   "source": [
    "# 9. a) Write python code that prints all the divisors of a given natural number.\n",
    "giv_num = int(input(\"Enter a natiral number \"))\n",
    "div_list = []\n",
    "for i in range(1,giv_num+1) :\n",
    "    if giv_num%i == 0 :\n",
    "        div_list.append(i)\n",
    "print(\"All the divisors number of {} are {}\".format(giv_num,div_list))"
   ]
  },
  {
   "cell_type": "code",
   "execution_count": null,
   "id": "played-neutral",
   "metadata": {},
   "outputs": [],
   "source": [
    "# b) Read an integer number input by the user and calculate its prime factors. This will just be some of its divisors.\n",
    "#giv_num1 = int(input(\"Enter a natiral number \"))\n",
    "#for i in range(1,giv_num+1) :\n",
    "#    if giv_num%i == 0 :\n",
    "#        div_list.append(i)"
   ]
  },
  {
   "cell_type": "markdown",
   "id": "fabulous-frontier",
   "metadata": {},
   "source": [
    "#### 10. Read an integer number between $n$ $0$ and $9$ and print its multiplication table up to $N$ where $N$ is another another natural number read by the program."
   ]
  },
  {
   "cell_type": "code",
   "execution_count": 26,
   "id": "improving-criminal",
   "metadata": {},
   "outputs": [
    {
     "name": "stdout",
     "output_type": "stream",
     "text": [
      "Enter an integer between 0 to 9 : 7\n",
      "Enter an another natural that you to print the multiplication up to: 6\n",
      "7x0 = 0\n",
      "7x1 = 7\n",
      "7x2 = 14\n",
      "7x3 = 21\n",
      "7x4 = 28\n",
      "7x5 = 35\n",
      "7x6 = 42\n"
     ]
    }
   ],
   "source": [
    "n = int(input(\"Enter an integer between 0 to 9 : \"))\n",
    "N = int(input(\"Enter an another natural that you to print the multiplication up to: \"))\n",
    "for i in range(N+1): \n",
    "    mult = n*i\n",
    "    print(\"{}x{} = {}\".format(n,i,mult))"
   ]
  },
  {
   "cell_type": "markdown",
   "id": "adverse-committee",
   "metadata": {},
   "source": [
    "#### 11. Write a program that prints all the numbers between 0 and 40 that are multiples of 3, 7 or 11."
   ]
  },
  {
   "cell_type": "code",
   "execution_count": 27,
   "id": "earned-midnight",
   "metadata": {},
   "outputs": [
    {
     "name": "stdout",
     "output_type": "stream",
     "text": [
      "all the number between beteen 0 and 40 that are multple of 3 are [0, 3, 6, 9, 12, 15, 18, 21, 24, 27, 30, 33, 36, 39], of 7 are [0, 7, 14, 21, 28, 35] and of 11 are [0, 11, 22, 33]\n"
     ]
    }
   ],
   "source": [
    "mult_3 = []\n",
    "mult_7 = []\n",
    "mult_11 = []\n",
    "for i in range(41):\n",
    "    if i%3 == 0 : \n",
    "        mult_3.append(i)\n",
    "    if i%7 == 0:\n",
    "        mult_7.append(i)\n",
    "    \n",
    "    if i%11 == 0:\n",
    "        mult_11.append(i)\n",
    "\n",
    "print(\"all the number between beteen 0 and 40 that are multple of 3 are {}, of 7 are {} and of 11 are {}\".format(mult_3,mult_7,mult_11))"
   ]
  },
  {
   "cell_type": "code",
   "execution_count": null,
   "id": "adapted-interaction",
   "metadata": {},
   "outputs": [],
   "source": []
  }
 ],
 "metadata": {
  "kernelspec": {
   "display_name": "Python 3",
   "language": "python",
   "name": "python3"
  },
  "language_info": {
   "codemirror_mode": {
    "name": "ipython",
    "version": 3
   },
   "file_extension": ".py",
   "mimetype": "text/x-python",
   "name": "python",
   "nbconvert_exporter": "python",
   "pygments_lexer": "ipython3",
   "version": "3.9.2"
  }
 },
 "nbformat": 4,
 "nbformat_minor": 5
}
