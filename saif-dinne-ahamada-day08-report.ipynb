{
 "cells": [
  {
   "cell_type": "markdown",
   "metadata": {
    "id": "sm-kMbirqqyt"
   },
   "source": [
    "# PyPro: challenge 1 \n",
    "\n",
    "### This challenge is due on Sunday 29th September 2024 at 8pm.\n",
    "\n",
    "`These exercises provide a wide range of challenges that test your understanding of Python's core concepts, such as control structures, data types, string manipulations, list comprehensions, and higher-order functions.`\n",
    "\n",
    "\n",
    "#### Basic Tasks\n",
    "\n",
    "1. Create a function `find_max()` that accepts two numeric inputs and returns the greater value. Avoid using the built-in `max()` function.\n",
    "\n",
    "2. Develop a function `find_max_of_three()` to find the maximum among three given numbers.\n",
    "\n",
    "3. Write a function to manually calculate the length of a given list or string without using `len()`.\n",
    "\n",
    "4. Implement a function that checks if a given character is a vowel (a, e, i, o, u).\n",
    "\n",
    "5. Write a function `encode()` that converts a string into \"rövarspråket\" ([robber's language](https://en.wikipedia.org/wiki/R%C3%B6varspr%C3%A5ket)) by doubling consonants and placing \"o\" in between, e.g., \"hello\" -> \"hohelollolo\".\n",
    "\n",
    "6. Create `sum_elements()` and `product_elements()` functions to sum and multiply all elements in a list, respectively.\n",
    "\n",
    "7. Define a function `reverse_string()` to reverse the characters in a given string.\n",
    "\n",
    "8. Implement `check_palindrome()` to verify if a string reads the same forwards and backwards, i.e. is a [palindrome](https://en.wikipedia.org/wiki/Palindrome).\n",
    "\n",
    "9. Develop a function `check_membership()` to determine if a value exists within a list.\n",
    "\n",
    "10. Write `check_overlap()` to identify if two lists share any elements.\n",
    "\n",
    "11. Implement `repeat_char()` that generates a string with a specified character repeated `n` times.\n",
    "\n",
    "12. Create a function `print_histogram()` that takes a list of integers and prints a corresponding histogram.\n",
    "\n",
    "13. Write `find_max_in_list()` to identify the largest number in a list of arbitrary length.\n",
    "\n",
    "14. Create a program that maps each word in a list to its length.\n",
    "\n",
    "15. Implement `longest_word()` to find the longest word in a list.\n",
    "\n",
    "16. Develop `filter_words()` to return words longer than a specified length from a list.\n",
    "\n",
    "17. Enhance the palindrome recognizer to handle phrases, ignoring spaces, punctuation, and case.\n",
    "\n",
    "18. Implement a function that checks if a given sentence is a [pangram](https://en.wikipedia.org/wiki/Pangram).\n",
    "\n",
    "19. Write a function that generates verses for the \"99 Bottles of Beer\" song.\n",
    "\n",
    "20. Create a translation function using a small dictionary to translate English words into French/.\n",
    "\n",
    "21. Develop `char_frequency()` to build a dictionary of character frequencies in a string.\n",
    "\n",
    "22. Implement a [Caesar cipher encoder/decoder using a shift of 13 (ROT-13)](https://en.wikipedia.org/wiki/ROT13).\n",
    "\n",
    "23. Create `fix_spaces()` to correct multiple spaces and missing spaces after periods in a text.\n",
    "\n",
    "24. Write `convert_to_third_person()` to transform verbs into their third person singular form.\n",
    "\n",
    "25. Implement `make_ing_form()` to convert verbs into their present participle form using heuristic rules.\n",
    "\n",
    "\n",
    "\n",
    "\n",
    "\n",
    "#### Higher-Order Functions and List Comprehensions\n",
    "\n",
    "26. Use `reduce()` to write `max_in_list()` that returns the largest number in a list.\n",
    "\n",
    "27. Write a program that maps words to their lengths using a for-loop, `map()`, and list comprehensions.\n",
    "\n",
    "28. Implement `find_longest_word()` using only higher-order functions.\n",
    "\n",
    "29. Use `filter()` to write `filter_long_words()` that filters words longer than `n`.\n",
    "\n",
    "30. Create `translate_with_map()` to translate English words to French using `map()`.\n",
    "\n",
    "31. Re-implement the higher-order functions `map()`, `filter()`, and `reduce()` from scratch.\n",
    "\n",
    "\n",
    "\n",
    "\n",
    "\n",
    "#### Simple Tasks with I/O\n",
    "\n",
    "32. Write a palindrome recognizer that reads lines from a file and prints only the palindromes.\n",
    "\n",
    "33. Implement a [semordnilap](https://en.wiktionary.org/wiki/semordnilap) recognizer that finds word pairs from a file where each word is the reverse of the other.\n",
    "\n",
    "34. Create `char_frequency_table()` to display a sorted character frequency table from a file.\n",
    "\n",
    "35. Write a function `speak_ICAO()` that translates text into the [ICAO phonetic alphabet](https://en.wikipedia.org/wiki/NATO_phonetic_alphabet).\n",
    "\n",
    "36. Implement `find_hapaxes()` to identify words that occur only once in a text file.\n",
    "\n",
    "37. Write a program that numbers each line in a text file.\n",
    "\n",
    "38. Calculate the average word length in a text file.\n",
    "\n",
    "39. Implement a number-guessing game where the user guesses a number between 1 and 20.\n",
    "\n",
    "40. Write a program that presents an [anagram](https://en.wikipedia.org/wiki/Anagram) of a randomly chosen word and allows the user to guess the original.\n",
    "\n",
    "41. Create a [Lingo game](https://en.wikipedia.org/wiki/Lingo_(American_game_show)) where players guess a hidden word, receiving clues about correct and misplaced characters.\n",
    "\n",
    "\n",
    "\n",
    "#### Advanced Tasks\n",
    "\n",
    "42. Develop a sentence splitter that separates a text into sentences based on various heuristics.\n",
    "\n",
    "43. Write a program to find the largest group of anagrams in a given word list.\n",
    "\n",
    "44. Generate a string of balanced brackets and verify if it is balanced.\n",
    "\n",
    "45. Create a word chain game where each word starts with the last letter of the previous one, using a list of [Pokemon names](https://en.wikipedia.org/wiki/List_of_Pok%C3%A9mon)."
   ]
  },
  {
   "cell_type": "markdown",
   "metadata": {},
   "source": [
    "#### 1. Create a function `find_max()` that accepts two numeric inputs and returns the greater value. Avoid using the built-in `max()` function.\n",
    "\n",
    "``` Python\n",
    "    ''' the function take two numeric inputs and returns the greater value '''\n",
    "    \n",
    "    def find_max():\n",
    "        num1 = float(\"Enter a numeric value you want: \")\n",
    "        num2 = float(\"Enter a second numeric value you want: )\n",
    "        if num1 >= num2 :\n",
    "            return num1\n",
    "        else :\n",
    "            return num2\n",
    "```\n"
   ]
  },
  {
   "cell_type": "markdown",
   "metadata": {},
   "source": []
  },
  {
   "cell_type": "markdown",
   "metadata": {},
   "source": [
    "##### 2. Develop a function `find_max_of_three()` to find the maximum among three given numbers.\n",
    "\n",
    "```python\n",
    "    def find_max_of_three() :\n",
    "    ''' the function take three numeric inputs and return the maximum among three given numbers ''' \n",
    "    \n",
    "    num1 = float(input(\"Enter the first numeric value you want: \"))\n",
    "    num2 = float(input(\"Enter the second numeric value you want: \"))\n",
    "    num3 = float(input(\"Enter the third numeric value you want: \"))\n",
    "    if num1 >= num2 and num1 >= num3 :\n",
    "        return num1\n",
    "    elif num2 >= num3 :\n",
    "        \n",
    "        return num2\n",
    "    else :\n",
    "        return num3\n",
    "```"
   ]
  },
  {
   "cell_type": "markdown",
   "metadata": {},
   "source": [
    "#### 3. Write a function to manually calculate the length of a given list or string without using `len()`.\n",
    "```python\n",
    "def calc_man_len(Liste) :\n",
    "    ''' This function calculate manually the length of given liste or string '''\n",
    "    \n",
    "    length = 0\n",
    "    for i in Liste :\n",
    "        length = length + 1\n",
    "    return f\"the length of {Liste} is {length}\"\n",
    "```        "
   ]
  },
  {
   "cell_type": "markdown",
   "metadata": {},
   "source": [
    "#### 4. Implement a function that checks if a given character is a vowel (a, e, i, o, u).\n",
    "```python\n",
    "def is_vowel() :\n",
    "    ''' this function checkes if a given character inputs of user is a vowel or not, it returns True is\n",
    "        the character is a vowel else False'''\n",
    "    \n",
    "    user = input(\"Enter a character you want: \")\n",
    "    if user in \"aeiouAEIOU\" :\n",
    "        return True \n",
    "    else :\n",
    "        return False \n",
    "```\n"
   ]
  },
  {
   "cell_type": "markdown",
   "metadata": {},
   "source": [
    "#### 5. Write a function `encode()` that converts a string into \"rövarspråket\" ([robber's language (https://en.wikipedia.org/wiki/R%C3%B6varspr%C3%A5ket)) by doubling consonants and placing \"o\" in between, e.g., \"hello\" -> \"hohelollolo\".\n",
    "```python\n",
    "def encode() : \n",
    "    ''' this function converts a string into \"rövarspråket\" '''\n",
    "    guess = input(\"Enter a word you want: \")\n",
    "    conc = ''\n",
    "    for i in guess :\n",
    "        if i not in \"aeiouAEIOU\" :\n",
    "            conc = conc + i + \"o\" + i\n",
    "        else :\n",
    "            conc = conc + i\n",
    "    return conc\n",
    "```"
   ]
  },
  {
   "cell_type": "markdown",
   "metadata": {},
   "source": [
    "#### 6. Create `sum_elements()` and `product_elements()` functions to sum and multiply all elements in a list, respectively.\n",
    "``` python\n",
    "    def sum_elemets(liste) : \n",
    "        ''' This function calculate the sum of all elements in a list '''\n",
    "\n",
    "        som = 0\n",
    "        for i in liste :\n",
    "            som = som + i\n",
    "        return som \n",
    "\n",
    "    def product_elemets(liste) : \n",
    "        ''' this function calculate the product of all elements in a list '''\n",
    "\n",
    "        prod = 1\n",
    "        for i in liste :\n",
    "            prod = prod*i\n",
    "        return prod\n",
    "```"
   ]
  },
  {
   "cell_type": "markdown",
   "metadata": {},
   "source": [
    "#### 7. Define a function `reverse_string()` to reverse the characters in a given string.\n",
    "```python\n",
    "    def reverse_string() :\n",
    "    ''' this function reverse the characters in a given string '''\n",
    "    \n",
    "    string = input(\"Enter a string you want to reverse: \")\n",
    "    rev_string = string[::-1]\n",
    "    return rev_string\n",
    "```"
   ]
  },
  {
   "cell_type": "markdown",
   "metadata": {},
   "source": [
    "#### 8. Implement `check_palindrome()` to verify if a string reads the same forwards and backwards, i.e. is a [palindrome](https://en.wikipedia.org/wiki/Palindrome).\n",
    "```python \n",
    "def check_palindrome() :\n",
    "    ''' this function checks if a given character is a palindrom or not '''\n",
    "    \n",
    "    read_string = input(\"Enter a character you: \")\n",
    "    rev_str = read_string[::-1]\n",
    "    if read_string == rev_str : \n",
    "        return True \n",
    "    else :\n",
    "        return False \n",
    "```"
   ]
  },
  {
   "cell_type": "markdown",
   "metadata": {},
   "source": [
    "#### 9. Develop a function `check_membership()` to determine if a value exists within a list.\n",
    "```python\n",
    "    def check_membership(Liste) :\n",
    "        '''This function checks if value inputs by user is existing in a given list or not '''\n",
    "\n",
    "        value = int(input(\"Enter a value you want: \"))\n",
    "        if value in Liste :\n",
    "            return True\n",
    "        else :\n",
    "            return False \n",
    "```"
   ]
  },
  {
   "cell_type": "markdown",
   "metadata": {},
   "source": [
    "#### 10. Write `check_overlap()` to identify if two lists share any elements.\n",
    "```python\n",
    "    def check_overlap(Liste1, Liste2):\n",
    "        ''' this function checks if two given liste share any element or not '''\n",
    "\n",
    "        share_el = []\n",
    "        for i in Liste1 :\n",
    "            if i in Liste2 :\n",
    "                share_el.append(i)\n",
    "        return f\"{Liste1} and {Liste2} are shared this element {share_el}\"\n",
    "```\n"
   ]
  },
  {
   "cell_type": "markdown",
   "metadata": {},
   "source": [
    "#### 11. Implement `repeat_char()` that generates a string with a specified character repeated `n` times.\n"
   ]
  },
  {
   "cell_type": "code",
   "execution_count": 51,
   "metadata": {},
   "outputs": [],
   "source": [
    "def repeat_char(string):\n",
    "    count = 0 \n",
    "    for i in string :\n",
    "        count = string.count(i)\n",
    "        print(f\"the letter {i} is repeated {count}-times\")"
   ]
  },
  {
   "cell_type": "code",
   "execution_count": 53,
   "metadata": {},
   "outputs": [
    {
     "name": "stdout",
     "output_type": "stream",
     "text": [
      "the letter S is repeated 1-times\n",
      "the letter a is repeated 1-times\n",
      "the letter i is repeated 2-times\n",
      "the letter f is repeated 1-times\n",
      "the letter - is repeated 1-times\n",
      "the letter D is repeated 1-times\n",
      "the letter i is repeated 2-times\n",
      "the letter n is repeated 2-times\n",
      "the letter n is repeated 2-times\n",
      "the letter e is repeated 1-times\n"
     ]
    }
   ],
   "source": [
    "repeat_char(\"Saif-Dinne\")"
   ]
  },
  {
   "cell_type": "markdown",
   "metadata": {},
   "source": [
    "#### 12. Create a function `print_histogram()` that takes a list of integers and prints a corresponding histogram.\n"
   ]
  },
  {
   "cell_type": "code",
   "execution_count": null,
   "metadata": {},
   "outputs": [],
   "source": [
    "def print_histogram()"
   ]
  },
  {
   "cell_type": "markdown",
   "metadata": {},
   "source": [
    "#### 13. Write `find_max_in_list()` to identify the largest number in a list of arbitrary length.\n",
    "```python\n",
    "def find_max_in_list(Liste):\n",
    "    ''' This function find the maximum number within a list of arbitrary'''\n",
    "    \n",
    "    Liste.sort(reverse = True)\n",
    "    return Liste[0]\n",
    "```"
   ]
  },
  {
   "cell_type": "markdown",
   "metadata": {},
   "source": [
    "#### 14. Create a program that maps each word in a list to its length.\n",
    "```python\n",
    "def map_word(sentence_list) :\n",
    "    ''' this function maps each word in amlist to its length'''\n",
    "    \n",
    "    for i in sentence_list :\n",
    "        print(f\"the length of {i} is {len(i)}\")\n",
    "```"
   ]
  },
  {
   "cell_type": "markdown",
   "metadata": {},
   "source": [
    "#### 15. Implement `longest_word()` to find the longest word in a list.\n"
   ]
  },
  {
   "cell_type": "code",
   "execution_count": null,
   "metadata": {},
   "outputs": [],
   "source": []
  },
  {
   "cell_type": "code",
   "execution_count": null,
   "metadata": {},
   "outputs": [],
   "source": []
  },
  {
   "cell_type": "code",
   "execution_count": null,
   "metadata": {},
   "outputs": [],
   "source": []
  },
  {
   "cell_type": "code",
   "execution_count": null,
   "metadata": {},
   "outputs": [],
   "source": []
  }
 ],
 "metadata": {
  "colab": {
   "provenance": []
  },
  "kernelspec": {
   "display_name": "Python 3",
   "language": "python",
   "name": "python3"
  },
  "language_info": {
   "codemirror_mode": {
    "name": "ipython",
    "version": 3
   },
   "file_extension": ".py",
   "mimetype": "text/x-python",
   "name": "python",
   "nbconvert_exporter": "python",
   "pygments_lexer": "ipython3",
   "version": "3.9.2"
  }
 },
 "nbformat": 4,
 "nbformat_minor": 1
}
