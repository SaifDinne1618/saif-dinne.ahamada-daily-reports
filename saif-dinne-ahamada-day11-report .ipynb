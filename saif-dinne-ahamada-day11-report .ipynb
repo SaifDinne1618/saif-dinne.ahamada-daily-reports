{
 "cells": [
  {
   "cell_type": "markdown",
   "id": "946dcae8",
   "metadata": {},
   "source": [
    "# Practical_6: Numpy"
   ]
  },
  {
   "cell_type": "markdown",
   "id": "varying-makeup",
   "metadata": {},
   "source": [
    "### Exercise 1:\n",
    "Create a NumPy array of integers from 1 to 10.\n"
   ]
  },
  {
   "cell_type": "code",
   "execution_count": 1,
   "id": "under-statement",
   "metadata": {},
   "outputs": [
    {
     "data": {
      "text/plain": [
       "array([ 1,  2,  3,  4,  5,  6,  7,  8,  9, 10])"
      ]
     },
     "execution_count": 1,
     "metadata": {},
     "output_type": "execute_result"
    }
   ],
   "source": [
    "import numpy as np \n",
    "np.arange(1,11)"
   ]
  },
  {
   "cell_type": "markdown",
   "id": "adolescent-process",
   "metadata": {},
   "source": [
    "### Exercise 2:\n",
    "Create a 3x3 NumPy array filled with zeros."
   ]
  },
  {
   "cell_type": "code",
   "execution_count": 2,
   "id": "seasonal-expert",
   "metadata": {},
   "outputs": [
    {
     "data": {
      "text/plain": [
       "array([[0., 0., 0.],\n",
       "       [0., 0., 0.],\n",
       "       [0., 0., 0.]])"
      ]
     },
     "execution_count": 2,
     "metadata": {},
     "output_type": "execute_result"
    }
   ],
   "source": [
    "np.zeros((3,3))"
   ]
  },
  {
   "cell_type": "markdown",
   "id": "stopped-detail",
   "metadata": {},
   "source": [
    "### Exercise 3:\n",
    "Create a NumPy array of 10 evenly spaced numbers between 0 and 5."
   ]
  },
  {
   "cell_type": "code",
   "execution_count": 3,
   "id": "aboriginal-stand",
   "metadata": {},
   "outputs": [
    {
     "data": {
      "text/plain": [
       "array([0.        , 0.55555556, 1.11111111, 1.66666667, 2.22222222,\n",
       "       2.77777778, 3.33333333, 3.88888889, 4.44444444, 5.        ])"
      ]
     },
     "execution_count": 3,
     "metadata": {},
     "output_type": "execute_result"
    }
   ],
   "source": [
    "np.linspace(0,5 , 10)"
   ]
  },
  {
   "cell_type": "markdown",
   "id": "lyric-meditation",
   "metadata": {},
   "source": [
    "### Exercise 4:\n",
    "Create a 5x5 identity matrix using NumPy."
   ]
  },
  {
   "cell_type": "code",
   "execution_count": 4,
   "id": "individual-greenhouse",
   "metadata": {},
   "outputs": [
    {
     "data": {
      "text/plain": [
       "array([[1., 0., 0., 0., 0.],\n",
       "       [0., 1., 0., 0., 0.],\n",
       "       [0., 0., 1., 0., 0.],\n",
       "       [0., 0., 0., 1., 0.],\n",
       "       [0., 0., 0., 0., 1.]])"
      ]
     },
     "execution_count": 4,
     "metadata": {},
     "output_type": "execute_result"
    }
   ],
   "source": [
    "np.eye(5)"
   ]
  },
  {
   "cell_type": "markdown",
   "id": "dependent-upgrade",
   "metadata": {},
   "source": [
    "### Exercise 5:\n",
    "Create a 4x4 matrix with random values between 0 and 1."
   ]
  },
  {
   "cell_type": "code",
   "execution_count": 5,
   "id": "environmental-brother",
   "metadata": {},
   "outputs": [
    {
     "data": {
      "text/plain": [
       "array([[0.76203122, 0.67836873, 0.10308474, 0.39504671],\n",
       "       [0.80244471, 0.60211534, 0.65595132, 0.84906965],\n",
       "       [0.92408312, 0.35816248, 0.35159156, 0.81063232],\n",
       "       [0.29396976, 0.84339413, 0.09621087, 0.66432643]])"
      ]
     },
     "execution_count": 5,
     "metadata": {},
     "output_type": "execute_result"
    }
   ],
   "source": [
    "np.random.random((4,4))"
   ]
  },
  {
   "cell_type": "markdown",
   "id": "dense-blues",
   "metadata": {},
   "source": [
    "### Exercise 6:\n",
    "Find the shape of a NumPy array."
   ]
  },
  {
   "cell_type": "code",
   "execution_count": 6,
   "id": "basic-lesbian",
   "metadata": {},
   "outputs": [
    {
     "data": {
      "text/plain": [
       "(3,)"
      ]
     },
     "execution_count": 6,
     "metadata": {},
     "output_type": "execute_result"
    }
   ],
   "source": [
    "a  = np.array([1,23,4])\n",
    "np.shape(a)"
   ]
  },
  {
   "cell_type": "markdown",
   "id": "pointed-aging",
   "metadata": {},
   "source": [
    "### Exercise 7:\n",
    "Reshape a 1D NumPy array of 16 elements into a 4x4 matrix."
   ]
  },
  {
   "cell_type": "code",
   "execution_count": 7,
   "id": "arbitrary-salon",
   "metadata": {},
   "outputs": [
    {
     "data": {
      "text/plain": [
       "array([[ 0,  1,  2,  3],\n",
       "       [ 4,  5,  6,  7],\n",
       "       [ 8,  9, 10, 11],\n",
       "       [12, 13, 14, 15]])"
      ]
     },
     "execution_count": 7,
     "metadata": {},
     "output_type": "execute_result"
    }
   ],
   "source": [
    "np.arange(16).reshape((4,4))"
   ]
  },
  {
   "cell_type": "markdown",
   "id": "significant-anchor",
   "metadata": {},
   "source": [
    "### Exercise 8:\n",
    "Find the data type of the elements in a NumPy array."
   ]
  },
  {
   "cell_type": "code",
   "execution_count": 8,
   "id": "fallen-legislation",
   "metadata": {},
   "outputs": [
    {
     "data": {
      "text/plain": [
       "dtype('int64')"
      ]
     },
     "execution_count": 8,
     "metadata": {},
     "output_type": "execute_result"
    }
   ],
   "source": [
    "n = np.arange(1,12)\n",
    "n.dtype"
   ]
  },
  {
   "cell_type": "markdown",
   "id": "threatened-reserve",
   "metadata": {},
   "source": [
    "### Exercise 9:\n",
    "Create a NumPy array of integers from 1 to 100 and find all even numbers in the array."
   ]
  },
  {
   "cell_type": "code",
   "execution_count": 9,
   "id": "functional-tissue",
   "metadata": {},
   "outputs": [
    {
     "data": {
      "text/plain": [
       "array([  2,   4,   6,   8,  10,  12,  14,  16,  18,  20,  22,  24,  26,\n",
       "        28,  30,  32,  34,  36,  38,  40,  42,  44,  46,  48,  50,  52,\n",
       "        54,  56,  58,  60,  62,  64,  66,  68,  70,  72,  74,  76,  78,\n",
       "        80,  82,  84,  86,  88,  90,  92,  94,  96,  98, 100])"
      ]
     },
     "execution_count": 9,
     "metadata": {},
     "output_type": "execute_result"
    }
   ],
   "source": [
    "np.arange(1,101)[1::2]"
   ]
  },
  {
   "cell_type": "markdown",
   "id": "posted-temperature",
   "metadata": {},
   "source": [
    "### Exercise 10:\n",
    "Generate a 6x6 matrix of random integers between 10 and 50."
   ]
  },
  {
   "cell_type": "code",
   "execution_count": 10,
   "id": "talented-benchmark",
   "metadata": {},
   "outputs": [
    {
     "data": {
      "text/plain": [
       "array([[12, 15, 25, 49, 47, 12],\n",
       "       [29, 48, 50, 31, 21, 17],\n",
       "       [44, 11, 24, 23, 44, 27],\n",
       "       [46, 21, 29, 22, 26, 15],\n",
       "       [47, 21, 45, 44, 49, 42],\n",
       "       [16, 22, 21, 34, 25, 11]])"
      ]
     },
     "execution_count": 10,
     "metadata": {},
     "output_type": "execute_result"
    }
   ],
   "source": [
    "np.random.randint(10,51, size = (6,6))"
   ]
  },
  {
   "cell_type": "markdown",
   "id": "alone-dress",
   "metadata": {},
   "source": [
    "### Exercise 12:\n",
    "Calculate the sum of all elements in a NumPy array."
   ]
  },
  {
   "cell_type": "code",
   "execution_count": 11,
   "id": "horizontal-forwarding",
   "metadata": {},
   "outputs": [
    {
     "data": {
      "text/plain": [
       "15"
      ]
     },
     "execution_count": 11,
     "metadata": {},
     "output_type": "execute_result"
    }
   ],
   "source": [
    "np.array([1,2,3,4,5]).sum()"
   ]
  },
  {
   "cell_type": "markdown",
   "id": "bronze-quilt",
   "metadata": {},
   "source": [
    "### Exercise 13:\n",
    "Calculate the mean, median, and standard deviation of a NumPy array."
   ]
  },
  {
   "cell_type": "code",
   "execution_count": 12,
   "id": "universal-sphere",
   "metadata": {},
   "outputs": [
    {
     "data": {
      "text/plain": [
       "array([[ 8, 23, 79, 70, 58, 36, 89, 19, 85, 29, 17, 22, 77, 75]])"
      ]
     },
     "execution_count": 12,
     "metadata": {},
     "output_type": "execute_result"
    }
   ],
   "source": [
    "a = np.random.randint(1,100 , size=(1,14))\n",
    "a"
   ]
  },
  {
   "cell_type": "code",
   "execution_count": 13,
   "id": "recreational-washington",
   "metadata": {},
   "outputs": [
    {
     "data": {
      "text/plain": [
       "49.07142857142857"
      ]
     },
     "execution_count": 13,
     "metadata": {},
     "output_type": "execute_result"
    }
   ],
   "source": [
    "np.mean(a)   # compute the mean of a "
   ]
  },
  {
   "cell_type": "code",
   "execution_count": 14,
   "id": "british-mouse",
   "metadata": {},
   "outputs": [
    {
     "data": {
      "text/plain": [
       "47.0"
      ]
     },
     "execution_count": 14,
     "metadata": {},
     "output_type": "execute_result"
    }
   ],
   "source": [
    "np.median(a)  # compute the median of a "
   ]
  },
  {
   "cell_type": "code",
   "execution_count": 15,
   "id": "rental-heritage",
   "metadata": {},
   "outputs": [
    {
     "data": {
      "text/plain": [
       "28.481734211130288"
      ]
     },
     "execution_count": 15,
     "metadata": {},
     "output_type": "execute_result"
    }
   ],
   "source": [
    "np.sqrt(np.var(a))  #compute the standart diviation of a by using the square root of a "
   ]
  },
  {
   "cell_type": "code",
   "execution_count": 16,
   "id": "appreciated-field",
   "metadata": {},
   "outputs": [
    {
     "data": {
      "text/plain": [
       "28.481734211130288"
      ]
     },
     "execution_count": 16,
     "metadata": {},
     "output_type": "execute_result"
    }
   ],
   "source": [
    "np.std(a)     #compute the standart diaviation of a by using std() method in numpy "
   ]
  },
  {
   "cell_type": "markdown",
   "id": "dramatic-sensitivity",
   "metadata": {},
   "source": [
    "### Exercise 14:\n",
    "Find the maximum and minimum values in a NumPy array."
   ]
  },
  {
   "cell_type": "code",
   "execution_count": 17,
   "id": "restricted-model",
   "metadata": {},
   "outputs": [
    {
     "data": {
      "text/plain": [
       "array([[29, 34, 20, 21, 39]])"
      ]
     },
     "execution_count": 17,
     "metadata": {},
     "output_type": "execute_result"
    }
   ],
   "source": [
    "a = np.random.randint(20,41, size = (1,5))\n",
    "a"
   ]
  },
  {
   "cell_type": "code",
   "execution_count": 18,
   "id": "played-crystal",
   "metadata": {},
   "outputs": [],
   "source": [
    "a1 = np.random.randint(20,41, size = (4,5))"
   ]
  },
  {
   "cell_type": "code",
   "execution_count": 19,
   "id": "inappropriate-novelty",
   "metadata": {},
   "outputs": [
    {
     "data": {
      "text/plain": [
       "array([[37, 37, 40, 20, 36],\n",
       "       [30, 25, 36, 29, 28],\n",
       "       [34, 21, 22, 25, 23],\n",
       "       [33, 29, 32, 27, 24]])"
      ]
     },
     "execution_count": 19,
     "metadata": {},
     "output_type": "execute_result"
    }
   ],
   "source": [
    "a1"
   ]
  },
  {
   "cell_type": "code",
   "execution_count": 20,
   "id": "fantastic-germany",
   "metadata": {},
   "outputs": [
    {
     "data": {
      "text/plain": [
       "array([37, 37, 40, 29, 36])"
      ]
     },
     "execution_count": 20,
     "metadata": {},
     "output_type": "execute_result"
    }
   ],
   "source": [
    "np.max(a1 , axis = 0)     # max for each rows"
   ]
  },
  {
   "cell_type": "code",
   "execution_count": 21,
   "id": "seeing-exhaust",
   "metadata": {},
   "outputs": [
    {
     "data": {
      "text/plain": [
       "array([20, 25, 21, 24])"
      ]
     },
     "execution_count": 21,
     "metadata": {},
     "output_type": "execute_result"
    }
   ],
   "source": [
    "np.min(a1, axis = 1)      # min for each coloumns"
   ]
  },
  {
   "cell_type": "code",
   "execution_count": 22,
   "id": "noticed-yesterday",
   "metadata": {
    "scrolled": false
   },
   "outputs": [
    {
     "data": {
      "text/plain": [
       "20"
      ]
     },
     "execution_count": 22,
     "metadata": {},
     "output_type": "execute_result"
    }
   ],
   "source": [
    "np.min(a)"
   ]
  },
  {
   "cell_type": "code",
   "execution_count": 23,
   "id": "returning-lyric",
   "metadata": {},
   "outputs": [
    {
     "data": {
      "text/plain": [
       "39"
      ]
     },
     "execution_count": 23,
     "metadata": {},
     "output_type": "execute_result"
    }
   ],
   "source": [
    "np.max(a)"
   ]
  },
  {
   "cell_type": "markdown",
   "id": "preliminary-aquarium",
   "metadata": {},
   "source": [
    "### Exercise 15:\n",
    "Create a NumPy array of 20 random integers and find the index of the maximum value."
   ]
  },
  {
   "cell_type": "code",
   "execution_count": 24,
   "id": "sized-valentine",
   "metadata": {},
   "outputs": [],
   "source": [
    "b = np.random.randint(0,21 , size = (3,4))"
   ]
  },
  {
   "cell_type": "code",
   "execution_count": 25,
   "id": "generous-yahoo",
   "metadata": {
    "scrolled": true
   },
   "outputs": [
    {
     "data": {
      "text/plain": [
       "array([[ 8, 18, 18, 11],\n",
       "       [11, 10, 15, 15],\n",
       "       [14, 10,  8,  3]])"
      ]
     },
     "execution_count": 25,
     "metadata": {},
     "output_type": "execute_result"
    }
   ],
   "source": [
    "b"
   ]
  },
  {
   "cell_type": "code",
   "execution_count": 26,
   "id": "existing-brass",
   "metadata": {},
   "outputs": [
    {
     "data": {
      "text/plain": [
       "1"
      ]
     },
     "execution_count": 26,
     "metadata": {},
     "output_type": "execute_result"
    }
   ],
   "source": [
    "np.argmax(b)     # use argmin for finding th index of minumum value in b"
   ]
  },
  {
   "cell_type": "markdown",
   "id": "duplicate-parks",
   "metadata": {},
   "source": [
    "### Exercise 16:\n",
    "Create a NumPy array and reverse its elements."
   ]
  },
  {
   "cell_type": "code",
   "execution_count": 27,
   "id": "ordered-compact",
   "metadata": {},
   "outputs": [
    {
     "data": {
      "text/plain": [
       "array([5, 4, 3, 2])"
      ]
     },
     "execution_count": 27,
     "metadata": {},
     "output_type": "execute_result"
    }
   ],
   "source": [
    "s = np.array([2,3,4,5])\n",
    "s[::-1]      #reverse the array s "
   ]
  },
  {
   "cell_type": "markdown",
   "id": "worth-remove",
   "metadata": {},
   "source": [
    "### Exercise 17:\n",
    "Create a 3x3 matrix and multiply it element-wise by another 3x3 matrix."
   ]
  },
  {
   "cell_type": "code",
   "execution_count": 28,
   "id": "internal-honey",
   "metadata": {},
   "outputs": [],
   "source": [
    "m1 = np.random.randint(4,9, size = (3,3))\n",
    "m2 = np.random.randint(11,21, size = (3,3))"
   ]
  },
  {
   "cell_type": "code",
   "execution_count": 29,
   "id": "structured-article",
   "metadata": {},
   "outputs": [
    {
     "data": {
      "text/plain": [
       "array([[7, 8, 8],\n",
       "       [7, 5, 6],\n",
       "       [6, 5, 5]])"
      ]
     },
     "execution_count": 29,
     "metadata": {},
     "output_type": "execute_result"
    }
   ],
   "source": [
    "m1"
   ]
  },
  {
   "cell_type": "code",
   "execution_count": 30,
   "id": "occasional-tension",
   "metadata": {},
   "outputs": [
    {
     "data": {
      "text/plain": [
       "array([[18, 17, 20],\n",
       "       [17, 17, 14],\n",
       "       [12, 11, 17]])"
      ]
     },
     "execution_count": 30,
     "metadata": {},
     "output_type": "execute_result"
    }
   ],
   "source": [
    "m2"
   ]
  },
  {
   "cell_type": "code",
   "execution_count": 31,
   "id": "french-checklist",
   "metadata": {},
   "outputs": [
    {
     "data": {
      "text/plain": [
       "array([[126, 136, 160],\n",
       "       [119,  85,  84],\n",
       "       [ 72,  55,  85]])"
      ]
     },
     "execution_count": 31,
     "metadata": {},
     "output_type": "execute_result"
    }
   ],
   "source": [
    "m1*m2  #sum element by element of array m1 amd array m2"
   ]
  },
  {
   "cell_type": "markdown",
   "id": "hybrid-video",
   "metadata": {},
   "source": [
    "### Exercise 18:\n",
    "Create a diagonal matrix from a given 1D array."
   ]
  },
  {
   "cell_type": "code",
   "execution_count": 32,
   "id": "empirical-sapphire",
   "metadata": {},
   "outputs": [],
   "source": [
    "m =np.random.randint(1,6 , size = (1,4))[0]"
   ]
  },
  {
   "cell_type": "code",
   "execution_count": 33,
   "id": "extensive-travel",
   "metadata": {},
   "outputs": [
    {
     "data": {
      "text/plain": [
       "array([2, 3, 5, 2])"
      ]
     },
     "execution_count": 33,
     "metadata": {},
     "output_type": "execute_result"
    }
   ],
   "source": [
    "m"
   ]
  },
  {
   "cell_type": "code",
   "execution_count": 34,
   "id": "disturbed-philadelphia",
   "metadata": {},
   "outputs": [
    {
     "data": {
      "text/plain": [
       "array([[2, 0, 0, 0],\n",
       "       [0, 3, 0, 0],\n",
       "       [0, 0, 5, 0],\n",
       "       [0, 0, 0, 2]])"
      ]
     },
     "execution_count": 34,
     "metadata": {},
     "output_type": "execute_result"
    }
   ],
   "source": [
    "np.diag(m)    # create the diagonal matrix from the 1D array m "
   ]
  },
  {
   "cell_type": "markdown",
   "id": "spread-longer",
   "metadata": {},
   "source": [
    "### Exercise 19:\n",
    "Perform matrix multiplication on two 2D NumPy arrays."
   ]
  },
  {
   "cell_type": "code",
   "execution_count": 35,
   "id": "ahead-benchmark",
   "metadata": {},
   "outputs": [],
   "source": [
    "matrice1 = np.random.randint(2,4 ,size = (3,5))\n",
    "matrice2 = np.random.randint(6,8 , size = (5,3))"
   ]
  },
  {
   "cell_type": "code",
   "execution_count": 36,
   "id": "changed-oracle",
   "metadata": {},
   "outputs": [
    {
     "data": {
      "text/plain": [
       "array([[83, 80, 89],\n",
       "       [90, 86, 95],\n",
       "       [77, 74, 82]])"
      ]
     },
     "execution_count": 36,
     "metadata": {},
     "output_type": "execute_result"
    }
   ],
   "source": [
    "matrice1.dot(matrice2)"
   ]
  },
  {
   "cell_type": "markdown",
   "id": "documentary-habitat",
   "metadata": {},
   "source": [
    "### Exercise 20:\n",
    "Flatten a 2D NumPy array into a 1D array."
   ]
  },
  {
   "cell_type": "code",
   "execution_count": 37,
   "id": "rotary-gibson",
   "metadata": {},
   "outputs": [],
   "source": [
    "oneDa = np.random.random((3,5))"
   ]
  },
  {
   "cell_type": "code",
   "execution_count": 38,
   "id": "binding-cooperative",
   "metadata": {},
   "outputs": [
    {
     "data": {
      "text/plain": [
       "array([[0.59623166, 0.92751023, 0.78838537, 0.53816843, 0.49040943],\n",
       "       [0.26423119, 0.71382687, 0.83469766, 0.04292373, 0.78491584],\n",
       "       [0.99315373, 0.67465299, 0.42820689, 0.10774601, 0.57097224]])"
      ]
     },
     "execution_count": 38,
     "metadata": {},
     "output_type": "execute_result"
    }
   ],
   "source": [
    "oneDa"
   ]
  },
  {
   "cell_type": "code",
   "execution_count": 39,
   "id": "solid-dependence",
   "metadata": {},
   "outputs": [
    {
     "data": {
      "text/plain": [
       "15"
      ]
     },
     "execution_count": 39,
     "metadata": {},
     "output_type": "execute_result"
    }
   ],
   "source": [
    "oneDa.size"
   ]
  },
  {
   "cell_type": "code",
   "execution_count": 40,
   "id": "mathematical-shelter",
   "metadata": {},
   "outputs": [
    {
     "data": {
      "text/plain": [
       "array([0.59623166, 0.92751023, 0.78838537, 0.53816843, 0.49040943,\n",
       "       0.26423119, 0.71382687, 0.83469766, 0.04292373, 0.78491584,\n",
       "       0.99315373, 0.67465299, 0.42820689, 0.10774601, 0.57097224])"
      ]
     },
     "execution_count": 40,
     "metadata": {},
     "output_type": "execute_result"
    }
   ],
   "source": [
    "np.reshape(oneDa, (oneDa.size,))    #flatten the 2D array oneDa to 1D array"
   ]
  },
  {
   "cell_type": "markdown",
   "id": "planned-suggestion",
   "metadata": {},
   "source": [
    "### Exercise 21:\n",
    "Stack two NumPy arrays vertically."
   ]
  },
  {
   "cell_type": "code",
   "execution_count": 41,
   "id": "addressed-poison",
   "metadata": {},
   "outputs": [],
   "source": [
    "array1 = np.random.randint(1,3 ,size = (1,5))\n",
    "array2 = np.random.randint(5,7 ,size = (1,5))"
   ]
  },
  {
   "cell_type": "code",
   "execution_count": 42,
   "id": "growing-facing",
   "metadata": {},
   "outputs": [
    {
     "data": {
      "text/plain": [
       "array([[1, 1, 1, 2, 1]])"
      ]
     },
     "execution_count": 42,
     "metadata": {},
     "output_type": "execute_result"
    }
   ],
   "source": [
    "array1 "
   ]
  },
  {
   "cell_type": "code",
   "execution_count": 43,
   "id": "stable-repeat",
   "metadata": {},
   "outputs": [
    {
     "data": {
      "text/plain": [
       "array([[5, 5, 5, 5, 6]])"
      ]
     },
     "execution_count": 43,
     "metadata": {},
     "output_type": "execute_result"
    }
   ],
   "source": [
    "array2"
   ]
  },
  {
   "cell_type": "code",
   "execution_count": 44,
   "id": "brutal-security",
   "metadata": {},
   "outputs": [
    {
     "data": {
      "text/plain": [
       "array([[[1, 5],\n",
       "        [1, 5],\n",
       "        [1, 5],\n",
       "        [2, 5],\n",
       "        [1, 6]]])"
      ]
     },
     "execution_count": 44,
     "metadata": {},
     "output_type": "execute_result"
    }
   ],
   "source": [
    "np.stack((array1, array2) , axis = 2)   #stack array1 and array2 vertically using stack function in numpy "
   ]
  },
  {
   "cell_type": "markdown",
   "id": "antique-niagara",
   "metadata": {},
   "source": [
    "### Exercise 22:\n",
    "Stack two NumPy arrays horizontally."
   ]
  },
  {
   "cell_type": "code",
   "execution_count": 45,
   "id": "threatened-elements",
   "metadata": {},
   "outputs": [
    {
     "data": {
      "text/plain": [
       "array([[[1, 1, 1, 2, 1],\n",
       "        [5, 5, 5, 5, 6]]])"
      ]
     },
     "execution_count": 45,
     "metadata": {},
     "output_type": "execute_result"
    }
   ],
   "source": [
    "np.stack((array1, array2), axis = 1)    #stack array1 and array2 horizontally "
   ]
  },
  {
   "cell_type": "markdown",
   "id": "judicial-overview",
   "metadata": {},
   "source": [
    "### Exercise 23:\n",
    "Split a NumPy array into multiple sub-arrays."
   ]
  },
  {
   "cell_type": "code",
   "execution_count": 46,
   "id": "usual-controversy",
   "metadata": {},
   "outputs": [
    {
     "data": {
      "text/plain": [
       "array([[10,  7,  5, 10, 12],\n",
       "       [ 5,  5,  8,  5, 10],\n",
       "       [ 3,  3,  6,  8,  7],\n",
       "       [ 3,  7,  3,  7, 10]])"
      ]
     },
     "execution_count": 46,
     "metadata": {},
     "output_type": "execute_result"
    }
   ],
   "source": [
    "p = np.random.randint(3,13, size = (4,5))\n",
    "p"
   ]
  },
  {
   "cell_type": "code",
   "execution_count": 47,
   "id": "internal-ebony",
   "metadata": {
    "scrolled": true
   },
   "outputs": [
    {
     "data": {
      "text/plain": [
       "[array([[10,  7,  5],\n",
       "        [ 5,  5,  8],\n",
       "        [ 3,  3,  6],\n",
       "        [ 3,  7,  3]]),\n",
       " array([[10, 12],\n",
       "        [ 5, 10],\n",
       "        [ 8,  7],\n",
       "        [ 7, 10]]),\n",
       " array([], shape=(4, 0), dtype=int64)]"
      ]
     },
     "execution_count": 47,
     "metadata": {},
     "output_type": "execute_result"
    }
   ],
   "source": [
    "np.split(p, [3,5] ,axis = 1)  #return sub-arrays of p[, :3] and p[,3:]"
   ]
  },
  {
   "cell_type": "code",
   "execution_count": 48,
   "id": "conceptual-value",
   "metadata": {},
   "outputs": [
    {
     "data": {
      "text/plain": [
       "[array([[10,  7,  5, 10, 12],\n",
       "        [ 5,  5,  8,  5, 10],\n",
       "        [ 3,  3,  6,  8,  7]]),\n",
       " array([[ 3,  7,  3,  7, 10]]),\n",
       " array([], shape=(0, 5), dtype=int64)]"
      ]
     },
     "execution_count": 48,
     "metadata": {},
     "output_type": "execute_result"
    }
   ],
   "source": [
    "np.split(p, [3,5] ,axis = 0)  #return sub-arrays of p[:3, ] and p[ 3: ,]"
   ]
  },
  {
   "cell_type": "markdown",
   "id": "municipal-constitution",
   "metadata": {},
   "source": [
    "### Exercise 24:\n",
    "Generate a random NumPy array and round each element to two decimal places."
   ]
  },
  {
   "cell_type": "code",
   "execution_count": 49,
   "id": "nearby-botswana",
   "metadata": {},
   "outputs": [],
   "source": [
    "num = np.linspace(1,10, 20)"
   ]
  },
  {
   "cell_type": "code",
   "execution_count": 50,
   "id": "complete-luxury",
   "metadata": {},
   "outputs": [
    {
     "data": {
      "text/plain": [
       "array([ 1.  ,  1.47,  1.95,  2.42,  2.89,  3.37,  3.84,  4.32,  4.79,\n",
       "        5.26,  5.74,  6.21,  6.68,  7.16,  7.63,  8.11,  8.58,  9.05,\n",
       "        9.53, 10.  ])"
      ]
     },
     "execution_count": 50,
     "metadata": {},
     "output_type": "execute_result"
    }
   ],
   "source": [
    "np.round(num , 2)    #round num to two decimal places"
   ]
  },
  {
   "cell_type": "markdown",
   "id": "complete-given",
   "metadata": {},
   "source": [
    "### Exercise 25:\n",
    "Find the unique elements of a NumPy array."
   ]
  },
  {
   "cell_type": "code",
   "execution_count": 51,
   "id": "tracked-chile",
   "metadata": {},
   "outputs": [
    {
     "data": {
      "text/plain": [
       "array(['ahamada', 'dinne', 'saif'], dtype='<U7')"
      ]
     },
     "execution_count": 51,
     "metadata": {},
     "output_type": "execute_result"
    }
   ],
   "source": [
    "array = np.array(['saif', 'saif', 'dinne', 'ahamada'])\n",
    "np.unique(array)   # return the unique element of array "
   ]
  },
  {
   "cell_type": "markdown",
   "id": "gothic-theory",
   "metadata": {},
   "source": [
    "### Exercise 26:\n",
    "Replace all elements in a NumPy array that are less than a specific value with that value."
   ]
  },
  {
   "cell_type": "code",
   "execution_count": 52,
   "id": "looking-bahamas",
   "metadata": {},
   "outputs": [],
   "source": [
    "array = np.random.randint(4, 13, size = (4,5))"
   ]
  },
  {
   "cell_type": "code",
   "execution_count": 53,
   "id": "assured-batman",
   "metadata": {},
   "outputs": [
    {
     "data": {
      "text/plain": [
       "array([[ 8,  8,  9, 12,  4],\n",
       "       [ 5,  6,  6, 10, 10],\n",
       "       [11,  6, 10,  7,  7],\n",
       "       [11,  6,  6,  9, 12]])"
      ]
     },
     "execution_count": 53,
     "metadata": {},
     "output_type": "execute_result"
    }
   ],
   "source": [
    "array"
   ]
  },
  {
   "cell_type": "code",
   "execution_count": 54,
   "id": "aging-portrait",
   "metadata": {},
   "outputs": [],
   "source": [
    "array[array<7] = 7"
   ]
  },
  {
   "cell_type": "code",
   "execution_count": 55,
   "id": "fleet-hospital",
   "metadata": {},
   "outputs": [
    {
     "data": {
      "text/plain": [
       "array([[ 8,  8,  9, 12,  7],\n",
       "       [ 7,  7,  7, 10, 10],\n",
       "       [11,  7, 10,  7,  7],\n",
       "       [11,  7,  7,  9, 12]])"
      ]
     },
     "execution_count": 55,
     "metadata": {},
     "output_type": "execute_result"
    }
   ],
   "source": [
    "array"
   ]
  },
  {
   "cell_type": "markdown",
   "id": "specific-softball",
   "metadata": {},
   "source": [
    "### Exercise 27:\n",
    "Find the cumulative sum of the elements in a NumPy array."
   ]
  },
  {
   "cell_type": "code",
   "execution_count": 56,
   "id": "adapted-subsection",
   "metadata": {},
   "outputs": [
    {
     "data": {
      "text/plain": [
       "array([  8,  16,  25,  37,  44,  51,  58,  65,  75,  85,  96, 103, 113,\n",
       "       120, 127, 138, 145, 152, 161, 173])"
      ]
     },
     "execution_count": 56,
     "metadata": {},
     "output_type": "execute_result"
    }
   ],
   "source": [
    "array.cumsum()      #compute the cumulative sun of the element in array "
   ]
  },
  {
   "cell_type": "markdown",
   "id": "alien-grain",
   "metadata": {},
   "source": [
    "### Exercise 28:\n",
    "Create a NumPy array and find the number of non-zero elements in it."
   ]
  },
  {
   "cell_type": "code",
   "execution_count": 57,
   "id": "serial-jason",
   "metadata": {},
   "outputs": [],
   "source": [
    "array1 = np.random.randint(0,4, size = (4,5))"
   ]
  },
  {
   "cell_type": "code",
   "execution_count": 58,
   "id": "described-compound",
   "metadata": {},
   "outputs": [
    {
     "data": {
      "text/plain": [
       "array([[3, 2, 3, 2, 2],\n",
       "       [1, 2, 1, 2, 0],\n",
       "       [0, 2, 2, 1, 2],\n",
       "       [1, 3, 2, 3, 3]])"
      ]
     },
     "execution_count": 58,
     "metadata": {},
     "output_type": "execute_result"
    }
   ],
   "source": [
    "array1"
   ]
  },
  {
   "cell_type": "code",
   "execution_count": 59,
   "id": "plastic-remark",
   "metadata": {},
   "outputs": [],
   "source": [
    "non_zero_el = array1[array1 != 0]    #extract the non zero element in array1 and assign it in variable non_zero_el"
   ]
  },
  {
   "cell_type": "code",
   "execution_count": 60,
   "id": "fancy-conclusion",
   "metadata": {},
   "outputs": [
    {
     "data": {
      "text/plain": [
       "array([3, 2, 3, 2, 2, 1, 2, 1, 2, 2, 2, 1, 2, 1, 3, 2, 3, 3])"
      ]
     },
     "execution_count": 60,
     "metadata": {},
     "output_type": "execute_result"
    }
   ],
   "source": [
    "non_zero_el"
   ]
  },
  {
   "cell_type": "code",
   "execution_count": 61,
   "id": "beginning-prime",
   "metadata": {
    "scrolled": true
   },
   "outputs": [
    {
     "data": {
      "text/plain": [
       "18"
      ]
     },
     "execution_count": 61,
     "metadata": {},
     "output_type": "execute_result"
    }
   ],
   "source": [
    "np.size(non_zero_el)    # get the number of non-zero element with the array1 "
   ]
  },
  {
   "cell_type": "markdown",
   "id": "assumed-buying",
   "metadata": {},
   "source": [
    "### Exercise 29:\n",
    "Create a NumPy array of random integers and sort it in ascending order."
   ]
  },
  {
   "cell_type": "code",
   "execution_count": 62,
   "id": "higher-instrument",
   "metadata": {},
   "outputs": [],
   "source": [
    "array2 = np.random.randint(3,14, size = (4,))"
   ]
  },
  {
   "cell_type": "code",
   "execution_count": 63,
   "id": "cooperative-thursday",
   "metadata": {},
   "outputs": [
    {
     "data": {
      "text/plain": [
       "array([10, 12, 10, 13])"
      ]
     },
     "execution_count": 63,
     "metadata": {},
     "output_type": "execute_result"
    }
   ],
   "source": [
    "array2"
   ]
  },
  {
   "cell_type": "code",
   "execution_count": 64,
   "id": "weighted-macro",
   "metadata": {},
   "outputs": [
    {
     "data": {
      "text/plain": [
       "array([10, 10, 12, 13])"
      ]
     },
     "execution_count": 64,
     "metadata": {},
     "output_type": "execute_result"
    }
   ],
   "source": [
    "np.sort(array2)   # sort arra2 in ascending order "
   ]
  },
  {
   "cell_type": "markdown",
   "id": "provincial-placement",
   "metadata": {},
   "source": [
    "### Exercise 30:\n",
    "Find the row-wise and column-wise sum of a 3x3 matrix."
   ]
  },
  {
   "cell_type": "code",
   "execution_count": 65,
   "id": "ignored-immune",
   "metadata": {},
   "outputs": [],
   "source": [
    "matrice = np.random.randint(2,13, size = (3,3))"
   ]
  },
  {
   "cell_type": "code",
   "execution_count": 66,
   "id": "studied-turning",
   "metadata": {},
   "outputs": [
    {
     "data": {
      "text/plain": [
       "array([[ 4, 11,  8],\n",
       "       [11, 11,  8],\n",
       "       [ 3,  9,  7]])"
      ]
     },
     "execution_count": 66,
     "metadata": {},
     "output_type": "execute_result"
    }
   ],
   "source": [
    "matrice"
   ]
  },
  {
   "cell_type": "code",
   "execution_count": 67,
   "id": "silent-answer",
   "metadata": {},
   "outputs": [
    {
     "data": {
      "text/plain": [
       "array([23, 30, 19])"
      ]
     },
     "execution_count": 67,
     "metadata": {},
     "output_type": "execute_result"
    }
   ],
   "source": [
    "# sum row-wise of matrice 3x3 matrix called matrice\n",
    "np.sum(matrice , axis = 1)"
   ]
  },
  {
   "cell_type": "code",
   "execution_count": 68,
   "id": "expensive-white",
   "metadata": {},
   "outputs": [
    {
     "data": {
      "text/plain": [
       "array([18, 31, 23])"
      ]
     },
     "execution_count": 68,
     "metadata": {},
     "output_type": "execute_result"
    }
   ],
   "source": [
    "# sum column-wise of 3x3 matrix called matrice\n",
    "np.sum(matrice, axis = 0)"
   ]
  },
  {
   "cell_type": "markdown",
   "id": "intimate-nickel",
   "metadata": {},
   "source": [
    "### Exercise 31:\n",
    "Generate a 2D NumPy array with random values and normalize it (scale the values between 0 and 1)."
   ]
  },
  {
   "cell_type": "code",
   "execution_count": 69,
   "id": "grateful-differential",
   "metadata": {},
   "outputs": [],
   "source": [
    "data = np.random.randint(3,14 ,size = (5,6))   #create a random integer array with shape (5,6)"
   ]
  },
  {
   "cell_type": "code",
   "execution_count": 70,
   "id": "horizontal-canadian",
   "metadata": {
    "scrolled": false
   },
   "outputs": [
    {
     "data": {
      "text/plain": [
       "array([[12,  9, 13,  9,  6,  4],\n",
       "       [13, 10,  3,  7,  3,  5],\n",
       "       [ 7,  8, 12,  3, 12, 10],\n",
       "       [ 9,  3,  5,  6,  8,  3],\n",
       "       [12,  6, 13, 10,  5, 11]])"
      ]
     },
     "execution_count": 70,
     "metadata": {},
     "output_type": "execute_result"
    }
   ],
   "source": [
    "data   #print data"
   ]
  },
  {
   "cell_type": "code",
   "execution_count": 71,
   "id": "romance-potato",
   "metadata": {},
   "outputs": [],
   "source": [
    "min_data = np.min(data)                              # compute the min of data\n",
    "max_data = np.max(data)                              # compute the max of data\n",
    "norm_data = (data - min_data)/(max_data -  min_data) #compute the normalization "
   ]
  },
  {
   "cell_type": "code",
   "execution_count": 72,
   "id": "limited-relationship",
   "metadata": {},
   "outputs": [
    {
     "data": {
      "text/plain": [
       "array([[0.9, 0.6, 1. , 0.6, 0.3, 0.1],\n",
       "       [1. , 0.7, 0. , 0.4, 0. , 0.2],\n",
       "       [0.4, 0.5, 0.9, 0. , 0.9, 0.7],\n",
       "       [0.6, 0. , 0.2, 0.3, 0.5, 0. ],\n",
       "       [0.9, 0.3, 1. , 0.7, 0.2, 0.8]])"
      ]
     },
     "execution_count": 72,
     "metadata": {},
     "output_type": "execute_result"
    }
   ],
   "source": [
    "norm_data"
   ]
  },
  {
   "cell_type": "markdown",
   "id": "racial-surrey",
   "metadata": {},
   "source": [
    "### Exercise 32:\n",
    "Create two NumPy arrays and find the dot product."
   ]
  },
  {
   "cell_type": "code",
   "execution_count": 73,
   "id": "internal-allocation",
   "metadata": {},
   "outputs": [],
   "source": [
    "array1 = np.random.randint(2,7, size = (3,4))   #create a random integer array with shape (3,4) and assign it into array1\n",
    "array2 = np.random.randint(1,5 , size = (4,5))  #create a random integer array  shape (4,5) and assign it into array2"
   ]
  },
  {
   "cell_type": "code",
   "execution_count": 74,
   "id": "former-chassis",
   "metadata": {},
   "outputs": [
    {
     "data": {
      "text/plain": [
       "array([[44, 32, 54, 40, 40],\n",
       "       [36, 24, 39, 30, 37],\n",
       "       [38, 25, 46, 35, 42]])"
      ]
     },
     "execution_count": 74,
     "metadata": {},
     "output_type": "execute_result"
    }
   ],
   "source": [
    "# computing array1 dot array2\n",
    "array1.dot(array2)"
   ]
  },
  {
   "cell_type": "markdown",
   "id": "cultural-imagination",
   "metadata": {},
   "source": [
    "### Exercise 33:\n",
    "Find the trace of a square NumPy matrix."
   ]
  },
  {
   "cell_type": "code",
   "execution_count": 75,
   "id": "framed-proposition",
   "metadata": {},
   "outputs": [],
   "source": [
    "matrice = np.random.randint(4,7 , size = (4,4))  #create a matrix of dimension 4x4 generating randomly with integr assign the value in matrice variable "
   ]
  },
  {
   "cell_type": "code",
   "execution_count": 76,
   "id": "quarterly-intention",
   "metadata": {},
   "outputs": [
    {
     "data": {
      "text/plain": [
       "array([[5, 4, 5, 5],\n",
       "       [5, 6, 4, 4],\n",
       "       [5, 5, 6, 6],\n",
       "       [5, 4, 6, 4]])"
      ]
     },
     "execution_count": 76,
     "metadata": {},
     "output_type": "execute_result"
    }
   ],
   "source": [
    "matrice     # print matrice"
   ]
  },
  {
   "cell_type": "code",
   "execution_count": 77,
   "id": "acquired-jefferson",
   "metadata": {},
   "outputs": [
    {
     "data": {
      "text/plain": [
       "21"
      ]
     },
     "execution_count": 77,
     "metadata": {},
     "output_type": "execute_result"
    }
   ],
   "source": [
    "np.trace(matrice)    #compute the trace of matrice "
   ]
  },
  {
   "cell_type": "markdown",
   "id": "foster-merchandise",
   "metadata": {},
   "source": [
    "### Exercise 34:\n",
    "Create a 2D array and swap two rows."
   ]
  },
  {
   "cell_type": "code",
   "execution_count": 78,
   "id": "afraid-structure",
   "metadata": {},
   "outputs": [],
   "source": [
    "array1 = np.random.randint(7,23, size = (4,5))   # create 2D array with shape (4,5) and assign it into array1 variable "
   ]
  },
  {
   "cell_type": "code",
   "execution_count": 79,
   "id": "environmental-allen",
   "metadata": {
    "scrolled": true
   },
   "outputs": [
    {
     "data": {
      "text/plain": [
       "array([[11, 18, 18, 11, 18],\n",
       "       [19, 12,  8, 16, 19],\n",
       "       [13, 14, 20, 14, 11],\n",
       "       [20, 14, 20, 13, 21]])"
      ]
     },
     "execution_count": 79,
     "metadata": {},
     "output_type": "execute_result"
    }
   ],
   "source": [
    "array1    # print array1"
   ]
  },
  {
   "cell_type": "code",
   "execution_count": 80,
   "id": "comic-relaxation",
   "metadata": {},
   "outputs": [
    {
     "data": {
      "text/plain": [
       "array([[20, 14, 20, 13, 21],\n",
       "       [19, 12,  8, 16, 19],\n",
       "       [13, 14, 20, 14, 11],\n",
       "       [11, 18, 18, 11, 18]])"
      ]
     },
     "execution_count": 80,
     "metadata": {},
     "output_type": "execute_result"
    }
   ],
   "source": [
    "#interchange two rows\n",
    "array1[[0, 3]] = array1[[3, 0]]\n",
    "\n",
    "array1"
   ]
  },
  {
   "cell_type": "markdown",
   "id": "developed-jerusalem",
   "metadata": {},
   "source": [
    "### Exercise 35:\n",
    "Create a 1D NumPy array and convert it into a column vector."
   ]
  },
  {
   "cell_type": "code",
   "execution_count": 81,
   "id": "arranged-velvet",
   "metadata": {},
   "outputs": [],
   "source": [
    "array1 = np.arange(2,21)      #create a 1D NumPy array and assign it into array1 variable"
   ]
  },
  {
   "cell_type": "code",
   "execution_count": 82,
   "id": "exclusive-clothing",
   "metadata": {},
   "outputs": [
    {
     "data": {
      "text/plain": [
       "array([ 2,  3,  4,  5,  6,  7,  8,  9, 10, 11, 12, 13, 14, 15, 16, 17, 18,\n",
       "       19, 20])"
      ]
     },
     "execution_count": 82,
     "metadata": {},
     "output_type": "execute_result"
    }
   ],
   "source": [
    "array1     #print array1 "
   ]
  },
  {
   "cell_type": "code",
   "execution_count": 83,
   "id": "athletic-taste",
   "metadata": {
    "scrolled": true
   },
   "outputs": [
    {
     "data": {
      "text/plain": [
       "array([[ 2],\n",
       "       [ 3],\n",
       "       [ 4],\n",
       "       [ 5],\n",
       "       [ 6],\n",
       "       [ 7],\n",
       "       [ 8],\n",
       "       [ 9],\n",
       "       [10],\n",
       "       [11],\n",
       "       [12],\n",
       "       [13],\n",
       "       [14],\n",
       "       [15],\n",
       "       [16],\n",
       "       [17],\n",
       "       [18],\n",
       "       [19],\n",
       "       [20]])"
      ]
     },
     "execution_count": 83,
     "metadata": {},
     "output_type": "execute_result"
    }
   ],
   "source": [
    "np.vstack(array1)      # convert array1 in column vectore"
   ]
  },
  {
   "cell_type": "markdown",
   "id": "aggressive-jumping",
   "metadata": {},
   "source": [
    "### Exercise 36:\n",
    "Find the determinant of a 3x3 matrix."
   ]
  },
  {
   "cell_type": "code",
   "execution_count": 84,
   "id": "burning-clearance",
   "metadata": {},
   "outputs": [],
   "source": [
    "array1 = np.random.randint(3,7, size = (3,3))   # create  a matrix with dimension 3x3 genereating with integer "
   ]
  },
  {
   "cell_type": "code",
   "execution_count": 85,
   "id": "capable-preserve",
   "metadata": {},
   "outputs": [
    {
     "data": {
      "text/plain": [
       "-2.999999999999998"
      ]
     },
     "execution_count": 85,
     "metadata": {},
     "output_type": "execute_result"
    }
   ],
   "source": [
    "np.linalg.det(array1)"
   ]
  },
  {
   "cell_type": "markdown",
   "id": "contemporary-exercise",
   "metadata": {},
   "source": [
    "### Exercise 37:\n",
    "Find the eigenvalues and eigenvectors of a 2x2 matrix."
   ]
  },
  {
   "cell_type": "code",
   "execution_count": 86,
   "id": "sweet-force",
   "metadata": {},
   "outputs": [],
   "source": [
    "matrice_22 = np.random.randint(2,10, size = (2,2))    #create a matrix with dimesion 2x2"
   ]
  },
  {
   "cell_type": "code",
   "execution_count": 87,
   "id": "chinese-belarus",
   "metadata": {},
   "outputs": [
    {
     "data": {
      "text/plain": [
       "(array([13.65685425,  2.34314575]),\n",
       " array([[ 0.57735027, -0.57735027],\n",
       "        [ 0.81649658,  0.81649658]]))"
      ]
     },
     "execution_count": 87,
     "metadata": {},
     "output_type": "execute_result"
    }
   ],
   "source": [
    "np.linalg.eig(matrice_22)   #compute the eigen values and eigenvectors of matrice_22"
   ]
  },
  {
   "cell_type": "markdown",
   "id": "biological-knowing",
   "metadata": {},
   "source": [
    "### Exercise 38:\n",
    "Solve a system of linear equations using NumPy.\n",
    "\n",
    "assume that the equation is :\n",
    "$$\n",
    "x + y = 1 \\\\\n",
    "x - y =2\n",
    "$$"
   ]
  },
  {
   "cell_type": "code",
   "execution_count": 88,
   "id": "composed-peeing",
   "metadata": {
    "scrolled": true
   },
   "outputs": [
    {
     "data": {
      "text/plain": [
       "array([ 1.5, -0.5])"
      ]
     },
     "execution_count": 88,
     "metadata": {},
     "output_type": "execute_result"
    }
   ],
   "source": [
    "np.linalg.solve(np.array([[1,1], [1,-1]]), np.array([1,2]))   #solve this equation above"
   ]
  },
  {
   "cell_type": "markdown",
   "id": "disciplinary-theorem",
   "metadata": {},
   "source": [
    "### Exercise 39:\n",
    "Add Gaussian noise to a NumPy array."
   ]
  },
  {
   "cell_type": "code",
   "execution_count": 89,
   "id": "trained-columbia",
   "metadata": {},
   "outputs": [],
   "source": [
    "array = np.random.randint(2,5, size = (5,4))   #create an array with shape (5,4) and assign it into "
   ]
  },
  {
   "cell_type": "code",
   "execution_count": 90,
   "id": "foreign-access",
   "metadata": {},
   "outputs": [
    {
     "data": {
      "text/plain": [
       "array([[4, 4, 2, 2],\n",
       "       [4, 4, 4, 3],\n",
       "       [3, 3, 4, 2],\n",
       "       [3, 3, 3, 4],\n",
       "       [4, 3, 2, 4]])"
      ]
     },
     "execution_count": 90,
     "metadata": {},
     "output_type": "execute_result"
    }
   ],
   "source": [
    "array"
   ]
  },
  {
   "cell_type": "code",
   "execution_count": 91,
   "id": "resistant-parliament",
   "metadata": {},
   "outputs": [],
   "source": [
    "gaussian_noise = np.random.randint(0,5 , size = (5,4))  # create a gaussian noise with the same shape as my array and assign the value in gaussian_noise "
   ]
  },
  {
   "cell_type": "code",
   "execution_count": 92,
   "id": "average-forge",
   "metadata": {},
   "outputs": [
    {
     "data": {
      "text/plain": [
       "array([[1, 2, 0, 4],\n",
       "       [0, 1, 0, 4],\n",
       "       [2, 1, 3, 0],\n",
       "       [2, 3, 4, 4],\n",
       "       [2, 2, 0, 0]])"
      ]
     },
     "execution_count": 92,
     "metadata": {},
     "output_type": "execute_result"
    }
   ],
   "source": [
    "gaussian_noise"
   ]
  },
  {
   "cell_type": "code",
   "execution_count": 93,
   "id": "exceptional-dress",
   "metadata": {},
   "outputs": [],
   "source": [
    "array_noise = array + gaussian_noise   #add to my array the gaussian noise "
   ]
  },
  {
   "cell_type": "code",
   "execution_count": 94,
   "id": "greater-terminal",
   "metadata": {},
   "outputs": [
    {
     "data": {
      "text/plain": [
       "array([[5, 6, 2, 6],\n",
       "       [4, 5, 4, 7],\n",
       "       [5, 4, 7, 2],\n",
       "       [5, 6, 7, 8],\n",
       "       [6, 5, 2, 4]])"
      ]
     },
     "execution_count": 94,
     "metadata": {},
     "output_type": "execute_result"
    }
   ],
   "source": [
    "array_noise   #print array_noise"
   ]
  },
  {
   "cell_type": "markdown",
   "id": "professional-router",
   "metadata": {},
   "source": [
    "### Exercise 40:\n",
    "Create a 4x4 matrix and extract the diagonal elements."
   ]
  },
  {
   "cell_type": "code",
   "execution_count": 95,
   "id": "taken-living",
   "metadata": {},
   "outputs": [],
   "source": [
    "matrix_44 = np.random.randint(1,7, size = (4,4))   #create the matrix with dimension 4x4 and assign the value in matrix_44\n"
   ]
  },
  {
   "cell_type": "code",
   "execution_count": 96,
   "id": "imperial-alabama",
   "metadata": {},
   "outputs": [
    {
     "data": {
      "text/plain": [
       "array([[6, 1, 5, 3],\n",
       "       [3, 1, 6, 3],\n",
       "       [4, 3, 3, 3],\n",
       "       [1, 3, 5, 6]])"
      ]
     },
     "execution_count": 96,
     "metadata": {},
     "output_type": "execute_result"
    }
   ],
   "source": [
    "matrix_44"
   ]
  },
  {
   "cell_type": "code",
   "execution_count": 97,
   "id": "normal-disorder",
   "metadata": {},
   "outputs": [
    {
     "data": {
      "text/plain": [
       "array([6, 1, 3, 6])"
      ]
     },
     "execution_count": 97,
     "metadata": {},
     "output_type": "execute_result"
    }
   ],
   "source": [
    "np.diagonal(matrix_44)  # extract the diagonal of the matrix_44"
   ]
  },
  {
   "cell_type": "markdown",
   "id": "facial-description",
   "metadata": {},
   "source": [
    "### Exercise 41:\n",
    "Generate a NumPy array of 100 random values and clip the values to a range between 10 and 50."
   ]
  },
  {
   "cell_type": "code",
   "execution_count": 98,
   "id": "ranging-internship",
   "metadata": {},
   "outputs": [],
   "source": [
    "array = np.random.randint(1,101, 100)    # create an array of 100 random values between 2 to 7   "
   ]
  },
  {
   "cell_type": "code",
   "execution_count": 99,
   "id": "excessive-blink",
   "metadata": {},
   "outputs": [
    {
     "data": {
      "text/plain": [
       "array([10, 11, 11, 11, 12, 14, 14, 15, 16, 17, 17, 18, 18, 21, 21, 23, 24,\n",
       "       25, 29, 30, 30, 31, 31, 32, 34, 35, 36, 37, 37, 37, 38, 38, 38, 39,\n",
       "       40, 40, 40, 41, 41, 41, 43, 45, 46, 47, 49, 49, 50, 50, 50])"
      ]
     },
     "execution_count": 99,
     "metadata": {},
     "output_type": "execute_result"
    }
   ],
   "source": [
    "np.sort(array[(array>=10) & (array<=50)])   #cliping the values of array to range between 10 to 50 "
   ]
  },
  {
   "cell_type": "markdown",
   "id": "minor-toyota",
   "metadata": {},
   "source": [
    "### Exercise 42:\n",
    "Create a 2D NumPy array and replace all negative values with zero."
   ]
  },
  {
   "cell_type": "code",
   "execution_count": 100,
   "id": "extraordinary-processor",
   "metadata": {},
   "outputs": [],
   "source": [
    "array = np.random.randint(-5,5, size = (5,6))  #create a 2D array with shape of (5,6) filled with integer random value between -5 and 5"
   ]
  },
  {
   "cell_type": "code",
   "execution_count": 101,
   "id": "liberal-poison",
   "metadata": {},
   "outputs": [
    {
     "data": {
      "text/plain": [
       "array([[-4, -2,  4, -3,  1, -4],\n",
       "       [ 2,  2, -2, -4,  4,  2],\n",
       "       [-4,  0, -5, -5, -5,  2],\n",
       "       [-5,  3,  0,  2,  2,  1],\n",
       "       [ 1, -5, -4, -5, -3, -4]])"
      ]
     },
     "execution_count": 101,
     "metadata": {},
     "output_type": "execute_result"
    }
   ],
   "source": [
    "array"
   ]
  },
  {
   "cell_type": "code",
   "execution_count": 102,
   "id": "creative-hayes",
   "metadata": {},
   "outputs": [],
   "source": [
    "array[array <= 0] = 0   #replace all negative value in array by 0 "
   ]
  },
  {
   "cell_type": "code",
   "execution_count": 103,
   "id": "romance-salmon",
   "metadata": {},
   "outputs": [
    {
     "data": {
      "text/plain": [
       "array([[0, 0, 4, 0, 1, 0],\n",
       "       [2, 2, 0, 0, 4, 2],\n",
       "       [0, 0, 0, 0, 0, 2],\n",
       "       [0, 3, 0, 2, 2, 1],\n",
       "       [1, 0, 0, 0, 0, 0]])"
      ]
     },
     "execution_count": 103,
     "metadata": {},
     "output_type": "execute_result"
    }
   ],
   "source": [
    "array   # print the array without negative value "
   ]
  },
  {
   "cell_type": "markdown",
   "id": "architectural-connection",
   "metadata": {},
   "source": [
    "### Exercise 43:\n",
    "Find the inner and outer products of two NumPy arrays."
   ]
  },
  {
   "cell_type": "code",
   "execution_count": 104,
   "id": "surprised-context",
   "metadata": {},
   "outputs": [],
   "source": [
    "array1 = np.random.randint(2,7,10)       # create an 1D array with shape (10,) and filled it with random integer between 2 to 7 and assign it to array 1 \n",
    "array2 = np.random.randint(3,9, 10)      # # create an 1D array with shape (10,) and filled it with random integer between 3 to 9 and assign it to array 2"
   ]
  },
  {
   "cell_type": "code",
   "execution_count": 105,
   "id": "genetic-economy",
   "metadata": {
    "scrolled": true
   },
   "outputs": [
    {
     "data": {
      "text/plain": [
       "array([6, 4, 6, 3, 5, 5, 3, 4, 4, 4])"
      ]
     },
     "execution_count": 105,
     "metadata": {},
     "output_type": "execute_result"
    }
   ],
   "source": [
    "array1"
   ]
  },
  {
   "cell_type": "code",
   "execution_count": 106,
   "id": "optimum-wedding",
   "metadata": {},
   "outputs": [
    {
     "data": {
      "text/plain": [
       "array([3, 7, 8, 8, 3, 7, 5, 8, 6, 3])"
      ]
     },
     "execution_count": 106,
     "metadata": {},
     "output_type": "execute_result"
    }
   ],
   "source": [
    "array2"
   ]
  },
  {
   "cell_type": "code",
   "execution_count": 107,
   "id": "sapphire-express",
   "metadata": {},
   "outputs": [
    {
     "data": {
      "text/plain": [
       "251"
      ]
     },
     "execution_count": 107,
     "metadata": {},
     "output_type": "execute_result"
    }
   ],
   "source": [
    "# inner product of array1 and array2\n",
    "np.inner(array1, array2)"
   ]
  },
  {
   "cell_type": "code",
   "execution_count": 108,
   "id": "narrative-fancy",
   "metadata": {},
   "outputs": [
    {
     "data": {
      "text/plain": [
       "array([[18, 42, 48, 48, 18, 42, 30, 48, 36, 18],\n",
       "       [12, 28, 32, 32, 12, 28, 20, 32, 24, 12],\n",
       "       [18, 42, 48, 48, 18, 42, 30, 48, 36, 18],\n",
       "       [ 9, 21, 24, 24,  9, 21, 15, 24, 18,  9],\n",
       "       [15, 35, 40, 40, 15, 35, 25, 40, 30, 15],\n",
       "       [15, 35, 40, 40, 15, 35, 25, 40, 30, 15],\n",
       "       [ 9, 21, 24, 24,  9, 21, 15, 24, 18,  9],\n",
       "       [12, 28, 32, 32, 12, 28, 20, 32, 24, 12],\n",
       "       [12, 28, 32, 32, 12, 28, 20, 32, 24, 12],\n",
       "       [12, 28, 32, 32, 12, 28, 20, 32, 24, 12]])"
      ]
     },
     "execution_count": 108,
     "metadata": {},
     "output_type": "execute_result"
    }
   ],
   "source": [
    "# outer product of array1 and array2\n",
    "np.outer(array1, array2)"
   ]
  },
  {
   "cell_type": "markdown",
   "id": "approved-railway",
   "metadata": {},
   "source": [
    "### Exercise 44:\n",
    "Calculate the pairwise distances between points in a NumPy array."
   ]
  },
  {
   "cell_type": "code",
   "execution_count": 109,
   "id": "fourth-verse",
   "metadata": {},
   "outputs": [],
   "source": [
    "array1 = np.random.randint(1,7, 10)    \n",
    "array2 = np.random.randint(11,17, 10)"
   ]
  },
  {
   "cell_type": "code",
   "execution_count": 110,
   "id": "divine-irish",
   "metadata": {},
   "outputs": [
    {
     "data": {
      "text/plain": [
       "array([6, 1, 3, 6, 5, 1, 6, 6, 6, 4])"
      ]
     },
     "execution_count": 110,
     "metadata": {},
     "output_type": "execute_result"
    }
   ],
   "source": [
    "array1"
   ]
  },
  {
   "cell_type": "code",
   "execution_count": 111,
   "id": "respective-imaging",
   "metadata": {},
   "outputs": [
    {
     "data": {
      "text/plain": [
       "array([13, 16, 11, 14, 14, 11, 15, 11, 16, 11])"
      ]
     },
     "execution_count": 111,
     "metadata": {},
     "output_type": "execute_result"
    }
   ],
   "source": [
    "array2"
   ]
  },
  {
   "cell_type": "code",
   "execution_count": 112,
   "id": "criminal-kinase",
   "metadata": {},
   "outputs": [],
   "source": [
    "distance = np.abs(array1 - array2)    # compute the distance between between array1 and array2"
   ]
  },
  {
   "cell_type": "code",
   "execution_count": 113,
   "id": "successful-program",
   "metadata": {},
   "outputs": [
    {
     "data": {
      "text/plain": [
       "array([ 7, 15,  8,  8,  9, 10,  9,  5, 10,  7])"
      ]
     },
     "execution_count": 113,
     "metadata": {},
     "output_type": "execute_result"
    }
   ],
   "source": [
    "distance"
   ]
  },
  {
   "cell_type": "markdown",
   "id": "greatest-amber",
   "metadata": {},
   "source": [
    "### Exercise 45:\n",
    "Create a structured NumPy array with fields for `name`, `age`, and `height`."
   ]
  },
  {
   "cell_type": "code",
   "execution_count": null,
   "id": "turned-capture",
   "metadata": {},
   "outputs": [],
   "source": []
  },
  {
   "cell_type": "markdown",
   "id": "different-invalid",
   "metadata": {},
   "source": [
    "### Exercise 46:\n",
    "Create a 5x5 matrix of random integers and count the occurrences of each unique value."
   ]
  },
  {
   "cell_type": "code",
   "execution_count": 114,
   "id": "working-patch",
   "metadata": {},
   "outputs": [],
   "source": [
    "matrix_55 = np.random.randint(2,13, size = (5,5))  "
   ]
  },
  {
   "cell_type": "code",
   "execution_count": 115,
   "id": "welcome-kansas",
   "metadata": {},
   "outputs": [
    {
     "data": {
      "text/plain": [
       "array([[11,  9,  4,  3,  4],\n",
       "       [12, 10,  5, 12, 11],\n",
       "       [ 7,  4, 11, 10,  5],\n",
       "       [ 3,  4,  6,  8,  5],\n",
       "       [11,  8,  8,  6,  4]])"
      ]
     },
     "execution_count": 115,
     "metadata": {},
     "output_type": "execute_result"
    }
   ],
   "source": [
    "matrix_55"
   ]
  },
  {
   "cell_type": "code",
   "execution_count": 116,
   "id": "asian-action",
   "metadata": {},
   "outputs": [
    {
     "data": {
      "text/plain": [
       "(array([ 3,  4,  5,  6,  7,  8,  9, 10, 11, 12]),\n",
       " array([2, 5, 3, 2, 1, 3, 1, 2, 4, 2]))"
      ]
     },
     "execution_count": 116,
     "metadata": {},
     "output_type": "execute_result"
    }
   ],
   "source": [
    "np.unique(matrix_55, return_counts = True)     #count the occurrences of each unique value in matrix_55"
   ]
  },
  {
   "cell_type": "markdown",
   "id": "prescribed-raising",
   "metadata": {},
   "source": [
    "### Exercise 47:\n",
    "Generate a random 3x3 NumPy array and subtract the mean of each row from the corresponding row."
   ]
  },
  {
   "cell_type": "code",
   "execution_count": 117,
   "id": "fleet-designer",
   "metadata": {},
   "outputs": [],
   "source": [
    "array = np.random.randint(3,5, size = (3,3))"
   ]
  },
  {
   "cell_type": "code",
   "execution_count": 118,
   "id": "communist-board",
   "metadata": {
    "scrolled": true
   },
   "outputs": [
    {
     "data": {
      "text/plain": [
       "array([[4, 4, 3],\n",
       "       [4, 3, 4],\n",
       "       [3, 4, 3]])"
      ]
     },
     "execution_count": 118,
     "metadata": {},
     "output_type": "execute_result"
    }
   ],
   "source": [
    "array"
   ]
  },
  {
   "cell_type": "code",
   "execution_count": 119,
   "id": "homeless-yield",
   "metadata": {},
   "outputs": [
    {
     "data": {
      "text/plain": [
       "array([3.66666667, 3.66666667, 3.33333333])"
      ]
     },
     "execution_count": 119,
     "metadata": {},
     "output_type": "execute_result"
    }
   ],
   "source": [
    "np.mean(array, axis = 1)"
   ]
  },
  {
   "cell_type": "markdown",
   "id": "environmental-proportion",
   "metadata": {},
   "source": [
    "### Exercise 48:\n",
    "Create a NumPy array of random integers and check if any of the values are greater than 50."
   ]
  },
  {
   "cell_type": "code",
   "execution_count": 120,
   "id": "sitting-simple",
   "metadata": {},
   "outputs": [],
   "source": [
    "array = np.random.randint(2,70,size = (5,5))"
   ]
  },
  {
   "cell_type": "code",
   "execution_count": 121,
   "id": "dried-oxford",
   "metadata": {},
   "outputs": [
    {
     "data": {
      "text/plain": [
       "array([[ True, False, False,  True, False],\n",
       "       [ True, False, False, False, False],\n",
       "       [False,  True, False, False, False],\n",
       "       [False,  True, False, False,  True],\n",
       "       [False, False, False,  True,  True]])"
      ]
     },
     "execution_count": 121,
     "metadata": {},
     "output_type": "execute_result"
    }
   ],
   "source": [
    "array>50    #check if any of the values are greater than 50"
   ]
  },
  {
   "cell_type": "markdown",
   "id": "mathematical-cornwall",
   "metadata": {},
   "source": [
    "### Exercise 49:\n",
    "Calculate the moving average of a 1D NumPy array."
   ]
  },
  {
   "cell_type": "code",
   "execution_count": null,
   "id": "composed-channels",
   "metadata": {},
   "outputs": [],
   "source": []
  },
  {
   "cell_type": "markdown",
   "id": "legal-application",
   "metadata": {},
   "source": [
    "### Exercise 50:\n",
    "Find the Pearson correlation coefficient between two NumPy arrays."
   ]
  },
  {
   "cell_type": "code",
   "execution_count": 122,
   "id": "unsigned-tolerance",
   "metadata": {},
   "outputs": [],
   "source": [
    "array1 = np.random.random(6)\n",
    "array2 = np.random.random(6)"
   ]
  },
  {
   "cell_type": "code",
   "execution_count": 123,
   "id": "delayed-remark",
   "metadata": {},
   "outputs": [
    {
     "data": {
      "text/plain": [
       "array([2.40696601])"
      ]
     },
     "execution_count": 123,
     "metadata": {},
     "output_type": "execute_result"
    }
   ],
   "source": [
    "np.correlate(array1, array2)    #compute the Pearson correlation coefficient between  array1 and array2. "
   ]
  },
  {
   "cell_type": "markdown",
   "id": "pretty-binding",
   "metadata": {},
   "source": [
    "### Exercise 51:\n",
    "Convert a NumPy array of radians to degrees."
   ]
  },
  {
   "cell_type": "code",
   "execution_count": 124,
   "id": "collective-electricity",
   "metadata": {},
   "outputs": [],
   "source": [
    "array_rand = np.random.randint(0 , 2*3.14159265358979 , 12)"
   ]
  },
  {
   "cell_type": "code",
   "execution_count": 125,
   "id": "frank-illness",
   "metadata": {},
   "outputs": [],
   "source": [
    "array_degree = (array_rand * 180)/3.14159265358979  #convert array_rand to degree"
   ]
  },
  {
   "cell_type": "code",
   "execution_count": 126,
   "id": "phantom-antigua",
   "metadata": {},
   "outputs": [
    {
     "data": {
      "text/plain": [
       "array([ 57.29577951, 229.18311805, 229.18311805, 229.18311805,\n",
       "         0.        ,  57.29577951, 229.18311805, 286.47889757,\n",
       "       114.59155903, 229.18311805,   0.        , 286.47889757])"
      ]
     },
     "execution_count": 126,
     "metadata": {},
     "output_type": "execute_result"
    }
   ],
   "source": [
    "array_degree"
   ]
  },
  {
   "cell_type": "markdown",
   "id": "stainless-architecture",
   "metadata": {},
   "source": [
    "### Exercise 52:\n",
    "Create a random NumPy array and compute its variance and standard deviation."
   ]
  },
  {
   "cell_type": "code",
   "execution_count": 127,
   "id": "strange-intention",
   "metadata": {},
   "outputs": [],
   "source": [
    "array = np.random.randint(2,7, 39)"
   ]
  },
  {
   "cell_type": "code",
   "execution_count": 128,
   "id": "worldwide-visiting",
   "metadata": {},
   "outputs": [
    {
     "data": {
      "text/plain": [
       "1.8974358974358974"
      ]
     },
     "execution_count": 128,
     "metadata": {},
     "output_type": "execute_result"
    }
   ],
   "source": [
    "#compute the variance \n",
    "np.var(array)"
   ]
  },
  {
   "cell_type": "code",
   "execution_count": 129,
   "id": "mounted-kruger",
   "metadata": {},
   "outputs": [
    {
     "data": {
      "text/plain": [
       "1.377474463442389"
      ]
     },
     "execution_count": 129,
     "metadata": {},
     "output_type": "execute_result"
    }
   ],
   "source": [
    "#compute the standart deviation\n",
    "np.std(array)"
   ]
  },
  {
   "cell_type": "markdown",
   "id": "joint-probe",
   "metadata": {},
   "source": [
    "### Exercise 53:\n",
    "Create a 2D NumPy array and find the indices of the maximum values along each axis."
   ]
  },
  {
   "cell_type": "code",
   "execution_count": 130,
   "id": "brief-torture",
   "metadata": {},
   "outputs": [],
   "source": [
    "array3 = np.random.randint(2,12, size = (6,7))"
   ]
  },
  {
   "cell_type": "code",
   "execution_count": 131,
   "id": "dated-spanking",
   "metadata": {},
   "outputs": [
    {
     "data": {
      "text/plain": [
       "array([[ 6,  7,  2,  7,  2,  2,  8],\n",
       "       [ 4,  9, 11,  6,  4,  7,  7],\n",
       "       [10, 10,  4,  6, 10,  4,  9],\n",
       "       [ 3,  5,  8,  5, 10,  4,  4],\n",
       "       [ 6, 10, 11, 11,  7, 11,  3],\n",
       "       [10,  8, 10, 10,  9, 11, 10]])"
      ]
     },
     "execution_count": 131,
     "metadata": {},
     "output_type": "execute_result"
    }
   ],
   "source": [
    "array3"
   ]
  },
  {
   "cell_type": "code",
   "execution_count": 132,
   "id": "ideal-subdivision",
   "metadata": {
    "scrolled": true
   },
   "outputs": [
    {
     "data": {
      "text/plain": [
       "array([6, 2, 0, 4, 2, 5])"
      ]
     },
     "execution_count": 132,
     "metadata": {},
     "output_type": "execute_result"
    }
   ],
   "source": [
    "np.argmax(array3, axis = 1)      # return the index of the maximum values along each rows"
   ]
  },
  {
   "cell_type": "code",
   "execution_count": 133,
   "id": "understood-judgment",
   "metadata": {},
   "outputs": [
    {
     "data": {
      "text/plain": [
       "array([2, 2, 1, 4, 2, 4, 5])"
      ]
     },
     "execution_count": 133,
     "metadata": {},
     "output_type": "execute_result"
    }
   ],
   "source": [
    "np.argmax(array3, axis = 0)      # return the index of the maximum values along each columns"
   ]
  },
  {
   "cell_type": "markdown",
   "id": "consolidated-directive",
   "metadata": {},
   "source": [
    "### Exercise 54:\n",
    "Compute the inverse of a 2x2 NumPy matrix."
   ]
  },
  {
   "cell_type": "code",
   "execution_count": 134,
   "id": "progressive-newport",
   "metadata": {},
   "outputs": [],
   "source": [
    "matrix_22 = np.random.randint(1,6, size = (2,2))"
   ]
  },
  {
   "cell_type": "code",
   "execution_count": 135,
   "id": "checked-gregory",
   "metadata": {},
   "outputs": [
    {
     "data": {
      "text/plain": [
       "array([[-9, -5],\n",
       "       [-9, -9]])"
      ]
     },
     "execution_count": 135,
     "metadata": {},
     "output_type": "execute_result"
    }
   ],
   "source": [
    "np.invert(matrice_22)    # compute the inverse of matri_22"
   ]
  },
  {
   "cell_type": "markdown",
   "id": "funky-hamilton",
   "metadata": {},
   "source": [
    "### Exercise 55:\n",
    "Create a NumPy array of 10 random values and standardize it (mean 0, variance 1)."
   ]
  },
  {
   "cell_type": "code",
   "execution_count": 136,
   "id": "devoted-attribute",
   "metadata": {},
   "outputs": [],
   "source": [
    "array4 = np.random.randint(3,17 , 10)"
   ]
  },
  {
   "cell_type": "code",
   "execution_count": 137,
   "id": "preceding-strand",
   "metadata": {},
   "outputs": [],
   "source": [
    "std_array4 = (array4 - np.mean(array4))/np.std(array4)   # compute the standardization of array4 "
   ]
  },
  {
   "cell_type": "code",
   "execution_count": 138,
   "id": "unknown-cleaning",
   "metadata": {},
   "outputs": [
    {
     "data": {
      "text/plain": [
       "array([ 8,  8, 12,  4,  6,  3,  6,  9,  5,  4])"
      ]
     },
     "execution_count": 138,
     "metadata": {},
     "output_type": "execute_result"
    }
   ],
   "source": [
    "array4"
   ]
  },
  {
   "cell_type": "markdown",
   "id": "blocked-cooking",
   "metadata": {},
   "source": [
    "### Exercise 56:\n",
    "Perform element-wise addition and subtraction on two NumPy arrays."
   ]
  },
  {
   "cell_type": "code",
   "execution_count": 139,
   "id": "confident-context",
   "metadata": {},
   "outputs": [],
   "source": [
    "array1 = np.arange(2,10)\n",
    "array2 = np.arange(10,18)"
   ]
  },
  {
   "cell_type": "code",
   "execution_count": 140,
   "id": "chinese-device",
   "metadata": {},
   "outputs": [
    {
     "data": {
      "text/plain": [
       "array([2, 3, 4, 5, 6, 7, 8, 9])"
      ]
     },
     "execution_count": 140,
     "metadata": {},
     "output_type": "execute_result"
    }
   ],
   "source": [
    "array1"
   ]
  },
  {
   "cell_type": "code",
   "execution_count": 141,
   "id": "sitting-shepherd",
   "metadata": {},
   "outputs": [
    {
     "data": {
      "text/plain": [
       "array([10, 11, 12, 13, 14, 15, 16, 17])"
      ]
     },
     "execution_count": 141,
     "metadata": {},
     "output_type": "execute_result"
    }
   ],
   "source": [
    "array2"
   ]
  },
  {
   "cell_type": "code",
   "execution_count": 142,
   "id": "amino-valuation",
   "metadata": {
    "scrolled": true
   },
   "outputs": [
    {
     "data": {
      "text/plain": [
       "array([12, 14, 16, 18, 20, 22, 24, 26])"
      ]
     },
     "execution_count": 142,
     "metadata": {},
     "output_type": "execute_result"
    }
   ],
   "source": [
    "#compute the addition of array1 and array2 \n",
    "array1 + array2"
   ]
  },
  {
   "cell_type": "code",
   "execution_count": 143,
   "id": "fabulous-guarantee",
   "metadata": {},
   "outputs": [
    {
     "data": {
      "text/plain": [
       "array([-8, -8, -8, -8, -8, -8, -8, -8])"
      ]
     },
     "execution_count": 143,
     "metadata": {},
     "output_type": "execute_result"
    }
   ],
   "source": [
    "#compute the sunstraction of array1 and array2\n",
    "array1 - array2"
   ]
  },
  {
   "cell_type": "markdown",
   "id": "surrounded-movie",
   "metadata": {},
   "source": [
    "### Exercise 57:\n",
    "Create a NumPy array of random values and find the maximum element's index."
   ]
  },
  {
   "cell_type": "code",
   "execution_count": 144,
   "id": "organic-enterprise",
   "metadata": {},
   "outputs": [],
   "source": [
    "array = np.random.random(12)"
   ]
  },
  {
   "cell_type": "code",
   "execution_count": 145,
   "id": "assisted-intellectual",
   "metadata": {},
   "outputs": [
    {
     "data": {
      "text/plain": [
       "array([0.22196268, 0.71208164, 0.08178261, 0.13166297, 0.31479195,\n",
       "       0.21428427, 0.69931694, 0.93968341, 0.2636424 , 0.7796884 ,\n",
       "       0.63624635, 0.49674394])"
      ]
     },
     "execution_count": 145,
     "metadata": {},
     "output_type": "execute_result"
    }
   ],
   "source": [
    "array"
   ]
  },
  {
   "cell_type": "code",
   "execution_count": 146,
   "id": "coordinate-ancient",
   "metadata": {},
   "outputs": [
    {
     "data": {
      "text/plain": [
       "7"
      ]
     },
     "execution_count": 146,
     "metadata": {},
     "output_type": "execute_result"
    }
   ],
   "source": [
    "# find the index of the maximum element in array\n",
    "np.argmax(array)"
   ]
  },
  {
   "cell_type": "markdown",
   "id": "severe-lunch",
   "metadata": {},
   "source": [
    "### Exercise 58:\n",
    "Create a 3x3 NumPy array and rotate it by 90 degrees."
   ]
  },
  {
   "cell_type": "code",
   "execution_count": 147,
   "id": "wound-bankruptcy",
   "metadata": {},
   "outputs": [],
   "source": [
    "array33 = np.random.random((3,3))"
   ]
  },
  {
   "cell_type": "code",
   "execution_count": 148,
   "id": "renewable-verification",
   "metadata": {},
   "outputs": [
    {
     "data": {
      "text/plain": [
       "array([[0.37684782, 0.91117644, 0.62586475],\n",
       "       [0.42842745, 0.47752802, 0.24524376],\n",
       "       [0.26589908, 0.27223062, 0.19758571]])"
      ]
     },
     "execution_count": 148,
     "metadata": {},
     "output_type": "execute_result"
    }
   ],
   "source": [
    "array33"
   ]
  },
  {
   "cell_type": "code",
   "execution_count": 149,
   "id": "twenty-commercial",
   "metadata": {},
   "outputs": [
    {
     "data": {
      "text/plain": [
       "array([[0.37684782, 0.42842745, 0.26589908],\n",
       "       [0.91117644, 0.47752802, 0.27223062],\n",
       "       [0.62586475, 0.24524376, 0.19758571]])"
      ]
     },
     "execution_count": 149,
     "metadata": {},
     "output_type": "execute_result"
    }
   ],
   "source": [
    "#rotate array33 by 90 degrees\n",
    "np.swapaxes(array33 ,1 ,0)"
   ]
  },
  {
   "cell_type": "markdown",
   "id": "regulation-collection",
   "metadata": {},
   "source": [
    "### Exercise 59:\n",
    "Compute the Frobenius norm of a matrix."
   ]
  },
  {
   "cell_type": "code",
   "execution_count": null,
   "id": "alpine-reverse",
   "metadata": {},
   "outputs": [],
   "source": []
  },
  {
   "cell_type": "markdown",
   "id": "computational-acoustic",
   "metadata": {},
   "source": [
    "### Exercise 60:\n",
    "Create a 3D NumPy array and slice out a subarray."
   ]
  },
  {
   "cell_type": "code",
   "execution_count": 150,
   "id": "competitive-shooting",
   "metadata": {},
   "outputs": [],
   "source": [
    "array7 = np.random.randint(3,19, size = (6,7))"
   ]
  },
  {
   "cell_type": "code",
   "execution_count": 151,
   "id": "exceptional-quebec",
   "metadata": {},
   "outputs": [
    {
     "data": {
      "text/plain": [
       "array([[ 8,  7,  8,  8, 18, 13, 11],\n",
       "       [16, 14, 13, 18,  8, 10, 10],\n",
       "       [18, 15, 12, 16, 14, 13,  6],\n",
       "       [ 9,  8, 12, 15, 15, 11, 16],\n",
       "       [12,  4,  3, 17, 17,  4, 18],\n",
       "       [ 9,  6, 12,  3,  5, 12,  5]])"
      ]
     },
     "execution_count": 151,
     "metadata": {},
     "output_type": "execute_result"
    }
   ],
   "source": [
    "array7"
   ]
  },
  {
   "cell_type": "code",
   "execution_count": 152,
   "id": "union-fleet",
   "metadata": {},
   "outputs": [
    {
     "data": {
      "text/plain": [
       "array([[15, 15, 11, 16],\n",
       "       [17, 17,  4, 18],\n",
       "       [ 3,  5, 12,  5]])"
      ]
     },
     "execution_count": 152,
     "metadata": {},
     "output_type": "execute_result"
    }
   ],
   "source": [
    "array7[3:,3:]   #subarray from the row of index 3 until the end and the column of index 3 until the end "
   ]
  },
  {
   "cell_type": "markdown",
   "id": "9a78d71c",
   "metadata": {},
   "source": []
  }
 ],
 "metadata": {
  "kernelspec": {
   "display_name": "Python 3",
   "language": "python",
   "name": "python3"
  },
  "language_info": {
   "codemirror_mode": {
    "name": "ipython",
    "version": 3
   },
   "file_extension": ".py",
   "mimetype": "text/x-python",
   "name": "python",
   "nbconvert_exporter": "python",
   "pygments_lexer": "ipython3",
   "version": "3.9.2"
  }
 },
 "nbformat": 4,
 "nbformat_minor": 5
}
