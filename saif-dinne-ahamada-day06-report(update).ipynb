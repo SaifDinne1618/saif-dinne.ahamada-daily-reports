{
 "cells": [
  {
   "cell_type": "markdown",
   "id": "related-boundary",
   "metadata": {},
   "source": [
    "# 1 Summations and Products\n",
    "#### October 1, 2024"
   ]
  },
  {
   "cell_type": "markdown",
   "id": "incoming-rachel",
   "metadata": {},
   "source": [
    "### 1. Compute the following expressions for a natural number n chosen by the user\n",
    "**(i)**$$\\sum_{i = 0,\\ i \\ is\\ odd}^{n-1}(i+3)$$\n",
    "**(ii)**$$\\prod_{i=0,\\ i\\ is\\ even}^{n-1}(i+3)$$"
   ]
  },
  {
   "cell_type": "code",
   "execution_count": 9,
   "id": "broad-reservation",
   "metadata": {},
   "outputs": [
    {
     "name": "stdout",
     "output_type": "stream",
     "text": [
      "Enter a natural n: 5\n",
      "The sum of odd number from 0 to 4 is 10\n"
     ]
    }
   ],
   "source": [
    "num = int(input(\"Enter a natural n: \"))\n",
    "summ = 0 \n",
    "for i in range(num) : \n",
    "    if (i%2 != 0) :\n",
    "        summ = summ + i + 3\n",
    "print (\"The sum of odd number from 0 to {} is {}\".format(num-1, summ))    "
   ]
  },
  {
   "cell_type": "code",
   "execution_count": 10,
   "id": "representative-inflation",
   "metadata": {},
   "outputs": [
    {
     "name": "stdout",
     "output_type": "stream",
     "text": [
      "Enter a natural number n: 5\n",
      "The product of even number from 0 to 4 is 105\n"
     ]
    }
   ],
   "source": [
    "num1 = int(input(\"Enter a natural number n: \"))\n",
    "product = 1\n",
    "for i in range(num1) :\n",
    "    if (i%2 == 0) :\n",
    "        product = product*(i+3)\n",
    "print(\"The product of even number from 0 to {} is {}\".format(num1-1,product))"
   ]
  },
  {
   "cell_type": "markdown",
   "id": "european-theater",
   "metadata": {},
   "source": [
    "### 2.Write a program that reads the number of the day of the week (from 0 to 6). If it is a working day, then the program will write the name of the corresponding day. Otherwise, it will write the word \"Weekend\"."
   ]
  },
  {
   "cell_type": "code",
   "execution_count": 7,
   "id": "understood-thirty",
   "metadata": {},
   "outputs": [
    {
     "name": "stdout",
     "output_type": "stream",
     "text": [
      "Enter a number of the day of the week (from 0 to 6) : 6\n",
      "Weekend\n"
     ]
    }
   ],
   "source": [
    "num_day = int(input(\"Enter a number of the day of the week (from 0 to 6) : \"))\n",
    "\n",
    "if num_day == 1 :\n",
    "    print(\"Monday\")\n",
    "    \n",
    "elif num_day == 2 :\n",
    "    print(\"Tuesday\")\n",
    "    \n",
    "elif num_day == 3 :\n",
    "    print(\"Wednesday\")\n",
    "    \n",
    "elif num_day == 4 :\n",
    "    print(\"Thusrday\")\n",
    "    \n",
    "elif num_day == 5:\n",
    "    print(\"Friday\")\n",
    "    \n",
    "elif num_day == 0 or num_day == 6 :\n",
    "    print(\"Weekend\")\n",
    "\n",
    "else :\n",
    "    print(\"Enter a correct number ...\")"
   ]
  },
  {
   "cell_type": "markdown",
   "id": "protective-photographer",
   "metadata": {},
   "source": [
    "### 3. Make a program that, given a month number (from 0 to 11), indicates how many days it has (28, 30 or 31), ignoring the leap years."
   ]
  },
  {
   "cell_type": "code",
   "execution_count": 8,
   "id": "english-wagon",
   "metadata": {},
   "outputs": [
    {
     "name": "stdout",
     "output_type": "stream",
     "text": [
      "Enter a month number (form 0 to 11): 30\n",
      "It has 30 days\n"
     ]
    }
   ],
   "source": [
    "num_month = int(input(\"Enter a month number (form 0 to 11): \"))\n",
    "if num_month  == 1 or num_month  == 3 or num_month  == 5 or num_month  == 7 or num_month  == 8 or num_month  == 10 or num_month  == 12 :\n",
    "    print(\"It has 31 days \")\n",
    "elif num_month == 2 :\n",
    "    print(\"It has 28 days\")\n",
    "else :\n",
    "    print(\"It has 30 days\")"
   ]
  },
  {
   "cell_type": "markdown",
   "id": "superior-corporation",
   "metadata": {},
   "source": [
    " ### 4. Write two versions of python code that displays your name 3 times. One version with a \"for loop\" and another version with a \"while loop\"."
   ]
  },
  {
   "cell_type": "code",
   "execution_count": null,
   "id": "weekly-atlas",
   "metadata": {},
   "outputs": [],
   "source": [
    "my_name = input(\"Enter your name, please: \")\n",
    "for i in range(3):\n",
    "    print(my_name)\n",
    "    \n"
   ]
  },
  {
   "cell_type": "code",
   "execution_count": null,
   "id": "private-insurance",
   "metadata": {},
   "outputs": [],
   "source": [
    "my_name1 = input(\"Enter your name, please: \")\n",
    "i = 0\n",
    "while (i < 3) : \n",
    "    print(my_name1)\n",
    "    i = i + 1\n",
    "    "
   ]
  },
  {
   "cell_type": "markdown",
   "id": "mexican-shore",
   "metadata": {},
   "source": [
    "### 5. Given two numbers $a_0$ and $a_1$ , the Fibonacci sequence they generate is constructed from the recursion formula $a_{n+1} = a_n + a_{n-1}$. Calculate the first 15 terms of a Fibonacci sequence, asking the user the initial values."
   ]
  },
  {
   "cell_type": "code",
   "execution_count": null,
   "id": "expected-blend",
   "metadata": {},
   "outputs": [],
   "source": [
    "a0 = 1\n",
    "a1 = 0\n",
    "for i in range(15) : \n",
    "    a_n = a1 + a0\n",
    "    a0 = a1 \n",
    "    a1 = a_n\n",
    "    print(a_n, end = \" \")\n"
   ]
  },
  {
   "cell_type": "markdown",
   "id": "technical-oxygen",
   "metadata": {},
   "source": [
    "### 6. Compute the first 30 terms of the sequence defined by $2x_{n+2} − x_{n+1} − 6x_n = 0$ sequence, given any two initial values $x_0$ and $x_1$"
   ]
  },
  {
   "cell_type": "code",
   "execution_count": null,
   "id": "unique-holly",
   "metadata": {},
   "outputs": [],
   "source": [
    "x0 = 1\n",
    "x1 = 0\n",
    "for i in range(30) :\n",
    "    x_n_2 = ((1/2)*x1) + (3*x0) \n",
    "    x0 = x1\n",
    "    x1 = x_n_2\n",
    "    print(x_n_2)"
   ]
  },
  {
   "cell_type": "markdown",
   "id": "imported-terminology",
   "metadata": {},
   "source": [
    "#### 7.  a) Write python code to determine whether or not a year is a leap year. Be sure youknow what a leap year is.\n",
    "####      b) Write the code using only logical operators, i.e. no conditional branching."
   ]
  },
  {
   "cell_type": "code",
   "execution_count": null,
   "id": "cordless-pacific",
   "metadata": {},
   "outputs": [],
   "source": [
    "# Question a\n",
    "year = int(input(\"Enter a year number you want: \"))\n",
    "if year%400 == 0 :  \n",
    "    if year%100 != 0 : \n",
    "        print(\"{} is leap year\".format(year))\n",
    "elif year%4 == 0 :\n",
    "    print(\"{} is leap year\".format(year))\n",
    "else :\n",
    "    print(\"Soryy...\")"
   ]
  },
  {
   "cell_type": "code",
   "execution_count": null,
   "id": "recent-opinion",
   "metadata": {},
   "outputs": [],
   "source": [
    "year = int(input(\"Enter a year number you want: \"))\n",
    "\n",
    "if (year%4 == 0) or (year == 400 and year%100 != 0): \n",
    "    print(\"{} is leap year\".format(year))\n",
    "else :\n",
    "    print(\"Soryy...\")"
   ]
  },
  {
   "cell_type": "markdown",
   "id": "stone-distinction",
   "metadata": {},
   "source": [
    "### 8.\n",
    "* a) Write python code that computes the sum of the square of the first n natural numbers.\n",
    "    One version with a \"for loop\" and another version with a \"while loop\".\n",
    "    \n",
    "* b) Write python code that prints, for a natural number M , the smallest natural number\n",
    "    n such that $1^2 + 2^2 + · · · + n^2 \\geq M$. One version with a \"for loop\" and another version\n",
    "    with a \"while loop\"."
   ]
  },
  {
   "cell_type": "markdown",
   "id": "viral-university",
   "metadata": {},
   "source": [
    "* a) Write python code that computes the sum of the square of the first n natural numbers.\n",
    "    One version with a \"for loop\" "
   ]
  },
  {
   "cell_type": "code",
   "execution_count": 11,
   "id": "injured-connectivity",
   "metadata": {},
   "outputs": [
    {
     "name": "stdout",
     "output_type": "stream",
     "text": [
      "Enter a natural number n: 90\n",
      "The sum of square of 1 to 90 is 247065\n"
     ]
    }
   ],
   "source": [
    "num2 = int(input(\"Enter a natural number n: \"))\n",
    "som = 0\n",
    "for i in range(1,num2+1):\n",
    "    som = som + (i*i)\n",
    "print(\"The sum of square of 1 to {} is {}\".format(num2, som))"
   ]
  },
  {
   "cell_type": "markdown",
   "id": "least-simpson",
   "metadata": {},
   "source": [
    "* a) Write python code that computes the sum of the square of the first n natural numbers.\n",
    "    One version with a \"while loop\"."
   ]
  },
  {
   "cell_type": "code",
   "execution_count": null,
   "id": "sonic-norfolk",
   "metadata": {},
   "outputs": [],
   "source": [
    "num3 = int(input(\"Enter a natural number n: \"))\n",
    "som = 0\n",
    "i = 0\n",
    "while i <= num3 :\n",
    "    som = som + (i*i)\n",
    "    i = i + 1\n",
    "print(\"The sum of square of 1 to {} is {}\".format(num2, som))"
   ]
  },
  {
   "cell_type": "markdown",
   "id": "advance-knight",
   "metadata": {},
   "source": [
    "* b)Write python code that prints, for a natural number M , the smallest natural number n such that $1^2 + 2^2 + · · · + n^2 ≥ M$. One version with a \"for loop\" "
   ]
  },
  {
   "cell_type": "code",
   "execution_count": 12,
   "id": "subtle-receptor",
   "metadata": {},
   "outputs": [
    {
     "name": "stdout",
     "output_type": "stream",
     "text": [
      "Enter a natural M: 90\n",
      "6\n"
     ]
    }
   ],
   "source": [
    "num_M = int(input(\"Enter a natural M: \"))\n",
    "som = 0\n",
    "for i in range(1,num_M+1): \n",
    "    som = som + (i**2)\n",
    "    if som >= num_M : \n",
    "        print(i)\n",
    "        break \n"
   ]
  },
  {
   "cell_type": "markdown",
   "id": "anticipated-insured",
   "metadata": {},
   "source": [
    "* b)Write python code that prints, for a natural number M , the smallest natural number n such that $1^2 + 2^2 + · · · + n^2 ≥ M$. One version with a \"while loop\" "
   ]
  },
  {
   "cell_type": "code",
   "execution_count": 13,
   "id": "coated-rhythm",
   "metadata": {},
   "outputs": [
    {
     "name": "stdout",
     "output_type": "stream",
     "text": [
      "Enter a natural M: 90\n",
      "6\n"
     ]
    }
   ],
   "source": [
    "num_M = int(input(\"Enter a natural M: \"))\n",
    "som = 0\n",
    "i = 1\n",
    "while True: \n",
    "    som = som + (i**2)\n",
    "    if som >= num_M : \n",
    "        print(i)\n",
    "        break \n",
    "    i = i + 1 \n"
   ]
  },
  {
   "cell_type": "markdown",
   "id": "infinite-webcam",
   "metadata": {},
   "source": [
    "####  9. a) Write python code that prints all the divisors of a given natural number.\n",
    "####      b) Read an integer number input by the user and calculate its prime factors. This will just be some of its divisors."
   ]
  },
  {
   "cell_type": "code",
   "execution_count": 14,
   "id": "median-concord",
   "metadata": {},
   "outputs": [
    {
     "name": "stdout",
     "output_type": "stream",
     "text": [
      "Enter a natiral number 34\n",
      "All the divisors number of 34 are [1, 2, 17, 34]\n"
     ]
    }
   ],
   "source": [
    "# 9. a) Write python code that prints all the divisors of a given natural number.\n",
    "giv_num = int(input(\"Enter a natiral number \"))\n",
    "div_list = []\n",
    "for i in range(1,giv_num+1) :\n",
    "    if giv_num%i == 0 :\n",
    "        div_list.append(i)\n",
    "print(\"All the divisors number of {} are {}\".format(giv_num,div_list))"
   ]
  },
  {
   "cell_type": "code",
   "execution_count": 16,
   "id": "sporting-plastic",
   "metadata": {},
   "outputs": [
    {
     "name": "stdout",
     "output_type": "stream",
     "text": [
      "Enter an integer number you want: 8\n",
      "prime factor of 1.0 are [2, 2, 2]\n"
     ]
    }
   ],
   "source": [
    "# b) Read an integer number input by the user and calculate its prime factors. This will just be some of its divisors.\n",
    "num = int(input(\"Enter an integer number you want: \"))\n",
    "prim_fac = []\n",
    "for i in range(2,num+1) :\n",
    "    while num%i == 0 :\n",
    "        prim_fac.append(i)\n",
    "        num = num /i\n",
    "print(f\"prime factor of {num} are {prim_fac}\")"
   ]
  },
  {
   "cell_type": "markdown",
   "id": "egyptian-evans",
   "metadata": {},
   "source": [
    "#### 10. Read an integer number between $n$ $0$ and $9$ and print its multiplication table up to $N$ where $N$ is another another natural number read by the program."
   ]
  },
  {
   "cell_type": "code",
   "execution_count": 17,
   "id": "danish-hormone",
   "metadata": {},
   "outputs": [
    {
     "name": "stdout",
     "output_type": "stream",
     "text": [
      "Enter an integer between 0 to 9 : 7\n",
      "Enter an another natural that you to print the multiplication up to: 89\n",
      "7x0 = 0\n",
      "7x1 = 7\n",
      "7x2 = 14\n",
      "7x3 = 21\n",
      "7x4 = 28\n",
      "7x5 = 35\n",
      "7x6 = 42\n",
      "7x7 = 49\n",
      "7x8 = 56\n",
      "7x9 = 63\n",
      "7x10 = 70\n",
      "7x11 = 77\n",
      "7x12 = 84\n",
      "7x13 = 91\n",
      "7x14 = 98\n",
      "7x15 = 105\n",
      "7x16 = 112\n",
      "7x17 = 119\n",
      "7x18 = 126\n",
      "7x19 = 133\n",
      "7x20 = 140\n",
      "7x21 = 147\n",
      "7x22 = 154\n",
      "7x23 = 161\n",
      "7x24 = 168\n",
      "7x25 = 175\n",
      "7x26 = 182\n",
      "7x27 = 189\n",
      "7x28 = 196\n",
      "7x29 = 203\n",
      "7x30 = 210\n",
      "7x31 = 217\n",
      "7x32 = 224\n",
      "7x33 = 231\n",
      "7x34 = 238\n",
      "7x35 = 245\n",
      "7x36 = 252\n",
      "7x37 = 259\n",
      "7x38 = 266\n",
      "7x39 = 273\n",
      "7x40 = 280\n",
      "7x41 = 287\n",
      "7x42 = 294\n",
      "7x43 = 301\n",
      "7x44 = 308\n",
      "7x45 = 315\n",
      "7x46 = 322\n",
      "7x47 = 329\n",
      "7x48 = 336\n",
      "7x49 = 343\n",
      "7x50 = 350\n",
      "7x51 = 357\n",
      "7x52 = 364\n",
      "7x53 = 371\n",
      "7x54 = 378\n",
      "7x55 = 385\n",
      "7x56 = 392\n",
      "7x57 = 399\n",
      "7x58 = 406\n",
      "7x59 = 413\n",
      "7x60 = 420\n",
      "7x61 = 427\n",
      "7x62 = 434\n",
      "7x63 = 441\n",
      "7x64 = 448\n",
      "7x65 = 455\n",
      "7x66 = 462\n",
      "7x67 = 469\n",
      "7x68 = 476\n",
      "7x69 = 483\n",
      "7x70 = 490\n",
      "7x71 = 497\n",
      "7x72 = 504\n",
      "7x73 = 511\n",
      "7x74 = 518\n",
      "7x75 = 525\n",
      "7x76 = 532\n",
      "7x77 = 539\n",
      "7x78 = 546\n",
      "7x79 = 553\n",
      "7x80 = 560\n",
      "7x81 = 567\n",
      "7x82 = 574\n",
      "7x83 = 581\n",
      "7x84 = 588\n",
      "7x85 = 595\n",
      "7x86 = 602\n",
      "7x87 = 609\n",
      "7x88 = 616\n",
      "7x89 = 623\n"
     ]
    }
   ],
   "source": [
    "n = int(input(\"Enter an integer between 0 to 9 : \"))\n",
    "N = int(input(\"Enter an another natural that you to print the multiplication up to: \"))\n",
    "for i in range(N+1): \n",
    "    mult = n*i\n",
    "    print(\"{}x{} = {}\".format(n,i,mult))"
   ]
  },
  {
   "cell_type": "markdown",
   "id": "precise-metro",
   "metadata": {},
   "source": [
    "#### 11. Write a program that prints all the numbers between 0 and 40 that are multiples of 3, 7 or 11."
   ]
  },
  {
   "cell_type": "code",
   "execution_count": 18,
   "id": "relative-madness",
   "metadata": {},
   "outputs": [
    {
     "name": "stdout",
     "output_type": "stream",
     "text": [
      "all the number between beteen 0 and 40 that are multple of 3 are [0, 3, 6, 9, 12, 15, 18, 21, 24, 27, 30, 33, 36, 39], of 7 are [0, 7, 14, 21, 28, 35] and of 11 are [0, 11, 22, 33]\n"
     ]
    }
   ],
   "source": [
    "mult_3 = []\n",
    "mult_7 = []\n",
    "mult_11 = []\n",
    "for i in range(41):\n",
    "    if i%3 == 0 : \n",
    "        mult_3.append(i)\n",
    "    if i%7 == 0:\n",
    "        mult_7.append(i)\n",
    "    \n",
    "    if i%11 == 0:\n",
    "        mult_11.append(i)\n",
    "\n",
    "print(\"all the number between beteen 0 and 40 that are multple of 3 are {}, of 7 are {} and of 11 are {}\".format(mult_3,mult_7,mult_11))"
   ]
  },
  {
   "cell_type": "markdown",
   "id": "experienced-vegetable",
   "metadata": {},
   "source": [
    "#### 12. Write python code that prints the floor of a float x. Recall that the floor of a float x is the largest integer value less than or equal to x, i.e. if $E[x]$ is the floor of x, then it satisfies, $$E[x] = 1 + E[x − 1]$$"
   ]
  },
  {
   "cell_type": "code",
   "execution_count": 19,
   "id": "outside-airport",
   "metadata": {},
   "outputs": [
    {
     "name": "stdout",
     "output_type": "stream",
     "text": [
      "Enter a float number that you want: 2.78\n",
      "The of a float 2.78 is 2\n"
     ]
    }
   ],
   "source": [
    "x = float(input(\"Enter a float number that you want: \"))\n",
    "floor_x = int(x)\n",
    "print(f\"The of a float {x} is {floor_x}\")"
   ]
  },
  {
   "cell_type": "markdown",
   "id": "selected-sheriff",
   "metadata": {},
   "source": [
    "#### 13. Given a point in the plane by its Cartesian coordinates, determine in which quadrant it is $(1st, 2nd, 3rd, 4th)$, if it lies on an axis, or if it is the origin. Do this for several points in the same execution of the program until the user quits."
   ]
  },
  {
   "cell_type": "code",
   "execution_count": 20,
   "id": "likely-resort",
   "metadata": {},
   "outputs": [
    {
     "name": "stdout",
     "output_type": "stream",
     "text": [
      "Enter a x coordinate: 2\n",
      "Enter a y coordinate: -4\n",
      "You are in 4th quadrant\n",
      "You want to continue [y/n] :n\n"
     ]
    }
   ],
   "source": [
    "while True :\n",
    "    x = float(input(\"Enter a x coordinate: \"))\n",
    "    y = float(input(\"Enter a y coordinate: \"))\n",
    "    if x>0 and y>0 : \n",
    "        print(\"You are in 1st quadrant\")\n",
    "\n",
    "    elif x<0 and y>0 : \n",
    "        print(\"You are in 2nd quadrant\")\n",
    "\n",
    "    elif x<0 and y<0 : \n",
    "        print(\"You are in 3rd quadrant\")\n",
    "\n",
    "    elif x>0 and y<0 : \n",
    "        print(\"You are in 4th quadrant\")\n",
    "\n",
    "    elif x == 0 and y>0 : \n",
    "        print(\"You lie on (Oy)-axes\")\n",
    "    elif x>0 and y == 0 : \n",
    "        print(\"You lie on (Ox)-axes\")\n",
    "    elif x<0 and y == 0 :\n",
    "        print(\"You lie on (Ox')-axes\")\n",
    "\n",
    "    elif x == 0 and y<0 :\n",
    "        print(\"You lie on (Oy')-axes\")\n",
    "    else :\n",
    "        print(\"You are on the origin (0,0)\")\n",
    "        \n",
    "    user = input(\"You want to continue [y/n] :\")\n",
    "    if user != 'y' :\n",
    "        break "
   ]
  },
  {
   "cell_type": "markdown",
   "id": "oriented-revelation",
   "metadata": {},
   "source": [
    "#### 14. Ask for an integer number between 0 and 9, denoted x. Once the user has entered a correct number (that is one in the range $[0..10)$) the program asks for a second integer number between 0 and 255, denoted max. The program continues asking for the number until it is correct (that it is in the range $[0..256)$). When this is done, show all multiples of x that are between 0 and max. Then, ask the user whether he/she wants to continue; if in the affirmative, ask for another couple of numbers, otherwise finish."
   ]
  },
  {
   "cell_type": "code",
   "execution_count": 21,
   "id": "stone-audio",
   "metadata": {},
   "outputs": [
    {
     "name": "stdout",
     "output_type": "stream",
     "text": [
      "Enter an integer number between 0 and 9, please: 7\n",
      "Enter an integer number between 0 and 255, please: 234\n",
      "all multiples of 7 between O and 234 are [0, 7, 14, 21, 28, 35, 42, 49, 56, 63, 70, 77, 84, 91, 98, 105, 112, 119, 126, 133, 140, 147, 154, 161, 168, 175, 182, 189, 196, 203, 210, 217, 224, 231] \n",
      "You want to continue or [y/n]n\n"
     ]
    }
   ],
   "source": [
    " while True :\n",
    "    while True : \n",
    "        x = int(input(\"Enter an integer number between 0 and 9, please: \"))\n",
    "        if x >= 0 and x <= 9 :\n",
    "            break\n",
    "        else :\n",
    "            print(\"Enter a correct integer between 0 and 9\")\n",
    "\n",
    "    while True : \n",
    "        Max = int(input(\"Enter an integer number between 0 and 255, please: \"))\n",
    "        if Max >= 0 and Max <= 255 :\n",
    "            break \n",
    "        else : \n",
    "            print(\"Enter a correct integer between 0 and 255\")\n",
    "\n",
    "    div_x = []\n",
    "    for i in range(Max+1) :\n",
    "        if i%x == 0 :\n",
    "            div_x.append(i)\n",
    "    print(f\"all multiples of {x} between O and {Max} are {div_x} \")\n",
    "    \n",
    "    user = input(\"You want to continue or [y/n]\")\n",
    "    if user != 'y': \n",
    "        break"
   ]
  },
  {
   "cell_type": "code",
   "execution_count": null,
   "id": "critical-artwork",
   "metadata": {},
   "outputs": [],
   "source": []
  }
 ],
 "metadata": {
  "kernelspec": {
   "display_name": "Python 3",
   "language": "python",
   "name": "python3"
  },
  "language_info": {
   "codemirror_mode": {
    "name": "ipython",
    "version": 3
   },
   "file_extension": ".py",
   "mimetype": "text/x-python",
   "name": "python",
   "nbconvert_exporter": "python",
   "pygments_lexer": "ipython3",
   "version": "3.9.2"
  }
 },
 "nbformat": 4,
 "nbformat_minor": 5
}
